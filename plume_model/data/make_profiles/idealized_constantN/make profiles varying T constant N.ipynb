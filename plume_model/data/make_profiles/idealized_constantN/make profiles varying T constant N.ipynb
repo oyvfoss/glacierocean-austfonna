{
 "cells": [
  {
   "cell_type": "code",
   "execution_count": 21,
   "id": "4927361e",
   "metadata": {},
   "outputs": [],
   "source": [
    "from oyv.imports import *\n",
    "import os\n",
    "import gsw"
   ]
  },
  {
   "cell_type": "code",
   "execution_count": 22,
   "id": "1f332670",
   "metadata": {},
   "outputs": [],
   "source": [
    "os.chdir('/home/oyvindl/work/code/git_public/ice_ocean_plume/')\n",
    "%run ice_ocean_plume.py\n",
    "os.chdir('/home/oyvindl/work/projects/barents_glaciers/glacierocean-austfonna/'\n",
    "         'plume_model/data/make_profiles/idealized_constantN')\n",
    "dummy_ = np.arange(200)\n",
    "ioplume = plume(10, 100, dummy_, dummy_, dummy_, 2)\n",
    "ioplume.set_params()"
   ]
  },
  {
   "cell_type": "code",
   "execution_count": 23,
   "id": "a0ad6ef3",
   "metadata": {},
   "outputs": [
    {
     "data": {
      "text/plain": [
       "'/home/oyvindl/work/projects/barents_glaciers/glacierocean-austfonna/plume_model/data/make_profiles/idealized_constantN'"
      ]
     },
     "execution_count": 23,
     "metadata": {},
     "output_type": "execute_result"
    }
   ],
   "source": [
    "pwd"
   ]
  },
  {
   "cell_type": "code",
   "execution_count": 24,
   "id": "0f98e23b",
   "metadata": {},
   "outputs": [],
   "source": [
    "def get_tempsal(DEP, TTOP, TBTM, SBTM, N2, dz =1):\n",
    "    dep = np.arange(0, DEP+dz/2, dz)\n",
    "    n = len(dep)\n",
    "    temp = TTOP + np.arange(n)/n*(TBTM-TTOP)\n",
    "    \n",
    "    dtemp_dz = -np.diff(temp)/dz\n",
    "    dsal_dz = -(ioplume.BT*dtemp_dz - N2/ioplume.g)/ioplume.BS\n",
    "    sal = np.concatenate([np.array([SBTM]), SBTM + np.cumsum(dsal_dz)])\n",
    "    \n",
    "    return temp, sal, dep"
   ]
  },
  {
   "cell_type": "code",
   "execution_count": 25,
   "id": "576e9783",
   "metadata": {},
   "outputs": [],
   "source": [
    "DEP = 100\n",
    "TTOP = 0\n",
    "TBTM = 2\n",
    "SBTM = 34.7\n",
    "N2 = 1e-4"
   ]
  },
  {
   "cell_type": "code",
   "execution_count": 26,
   "id": "5314c69c",
   "metadata": {},
   "outputs": [],
   "source": [
    "dz = 1\n",
    "dep = np.arange(0, DEP+dz/2, dz)\n",
    "n = len(dep)\n",
    "temp = TTOP + np.arange(n)/n*(TBTM-TTOP)"
   ]
  },
  {
   "cell_type": "code",
   "execution_count": 27,
   "id": "59236b48",
   "metadata": {},
   "outputs": [],
   "source": [
    "dtemp_dz = -np.diff(temp)/dz\n",
    "dsal_dz = -(ioplume.BT*dtemp_dz - N2/ioplume.g)/ioplume.BS"
   ]
  },
  {
   "cell_type": "code",
   "execution_count": 28,
   "id": "45b972e7",
   "metadata": {},
   "outputs": [],
   "source": [
    "sal = np.concatenate([np.array([SBTM]), SBTM + np.cumsum(dsal_dz)])"
   ]
  },
  {
   "cell_type": "code",
   "execution_count": 29,
   "id": "db8f8e41",
   "metadata": {},
   "outputs": [],
   "source": [
    "rho = gsw.rho?\n"
   ]
  },
  {
   "cell_type": "code",
   "execution_count": 30,
   "id": "11556886",
   "metadata": {},
   "outputs": [],
   "source": [
    "lat = 80\n",
    "pres = gsw.p_from_z(-dep, lat)\n",
    "SA = gsw.SA_from_SP(sal, pres, 30, lat)\n",
    "CT = gsw.CT_from_t(SA, temp, pres)\n",
    "sig0 = gsw.sigma0(SA, CT)\n",
    "rho = gsw.rho(SA, CT, pres)\n",
    "n2, middep = gsw.Nsquared(SA, CT, pres, lat = lat)"
   ]
  },
  {
   "cell_type": "code",
   "execution_count": 31,
   "id": "f867b0d1",
   "metadata": {},
   "outputs": [],
   "source": [
    "n2 = ioplume.g/rho.mean()*np.diff(sig0)"
   ]
  },
  {
   "cell_type": "code",
   "execution_count": 32,
   "id": "b9fbbd48",
   "metadata": {},
   "outputs": [],
   "source": [
    "ca()"
   ]
  },
  {
   "cell_type": "code",
   "execution_count": 33,
   "id": "1c6466c4",
   "metadata": {},
   "outputs": [],
   "source": [
    "fig, ax = plt.subplots(1, 4, sharey = True)\n",
    "ax[0].plot(temp, dep)\n",
    "ax[0].plot(CT, dep)\n",
    "\n",
    "ax[1].plot(sal, dep)\n",
    "ax[1].plot(SA, dep)\n",
    "\n",
    "ax[2].plot(rho, dep)\n",
    "ax[3].plot(n2, middep)\n",
    "pl.vline(N2, ax = ax[3])\n",
    "#ax[3].set_xlim(N2*0.5, N2*1.5)\n",
    "ax[0].invert_yaxis()"
   ]
  },
  {
   "cell_type": "code",
   "execution_count": 34,
   "id": "bba9c81d",
   "metadata": {},
   "outputs": [],
   "source": [
    "def get_tempsal(DEP, TTOP, TBTM, SBTM, N2, dz =1, rho0 = 1027):\n",
    "    dep = np.arange(0, DEP+dz/2, dz)\n",
    "    n = len(dep)\n",
    "    temp = TTOP + np.arange(n)/n*(TBTM-TTOP)\n",
    "    \n",
    "    dtemp_dz = -np.diff(temp)/dz\n",
    "    dsal_dz = (ioplume.BT*dtemp_dz - N2/ioplume.g)/ioplume.BS\n",
    "    sal = np.concatenate([np.array([SBTM]), SBTM + np.cumsum(dsal_dz)])[::-1]\n",
    "    \n",
    "    drho_dz = rho0*(ioplume.BS*dsal_dz - ioplume.BT*dtemp_dz)\n",
    "    n2 = -ioplume.g/rho0*drho_dz\n",
    "    return temp, sal, dep, n2"
   ]
  },
  {
   "cell_type": "code",
   "execution_count": 35,
   "id": "17323fbd",
   "metadata": {},
   "outputs": [
    {
     "data": {
      "text/plain": [
       "[<matplotlib.lines.Line2D at 0x7fe470569bb0>]"
      ]
     },
     "execution_count": 35,
     "metadata": {},
     "output_type": "execute_result"
    }
   ],
   "source": [
    "\n",
    "fig, ax = plt.subplots(1, 3, sharey = True)\n",
    "N2 = 1e-5\n",
    "temp, sal, dep, n2 = get_tempsal(DEP, 0, 2, SBTM, N2, dz =1)\n",
    "\n",
    "pl.vline(N2, ax = ax[2])\n",
    "ax[0].plot(temp, dep)\n",
    "ax[1].plot(sal, dep)\n",
    "ax[2].plot(n2, middep)\n",
    "ax[0].invert_yaxis()\n",
    "\n",
    "temp, sal, dep, n2 = get_tempsal(DEP, -2, 13, SBTM, N2, dz =1)\n",
    "ax[0].plot(temp, dep, '--')\n",
    "ax[1].plot(sal, dep, '--')\n",
    "ax[2].plot(n2, middep, '--')\n",
    "\n"
   ]
  },
  {
   "cell_type": "code",
   "execution_count": 36,
   "id": "f4b7a274",
   "metadata": {},
   "outputs": [
    {
     "name": "stdout",
     "output_type": "stream",
     "text": [
      "N2: 1.00e-05\n",
      "n2: 1.00e-05\n"
     ]
    }
   ],
   "source": [
    "print('N2: %.2e'%N2)\n",
    "print('n2: %.2e'%n2.mean())"
   ]
  },
  {
   "cell_type": "code",
   "execution_count": null,
   "id": "7d57c403",
   "metadata": {},
   "outputs": [],
   "source": []
  }
 ],
 "metadata": {
  "kernelspec": {
   "display_name": "Python [conda env:oyv] *",
   "language": "python",
   "name": "conda-env-oyv-py"
  },
  "language_info": {
   "codemirror_mode": {
    "name": "ipython",
    "version": 3
   },
   "file_extension": ".py",
   "mimetype": "text/x-python",
   "name": "python",
   "nbconvert_exporter": "python",
   "pygments_lexer": "ipython3",
   "version": "3.8.2"
  }
 },
 "nbformat": 4,
 "nbformat_minor": 5
}
