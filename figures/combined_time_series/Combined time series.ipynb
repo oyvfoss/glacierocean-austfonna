{
 "cells": [
  {
   "cell_type": "markdown",
   "id": "4d6d7ed2",
   "metadata": {},
   "source": [
    "## For AGU22"
   ]
  },
  {
   "cell_type": "code",
   "execution_count": 3,
   "id": "d4c89a05",
   "metadata": {},
   "outputs": [],
   "source": [
    "from oyv.imports import *"
   ]
  },
  {
   "cell_type": "markdown",
   "id": "8cdfd529",
   "metadata": {},
   "source": [
    "### Load data"
   ]
  },
  {
   "cell_type": "code",
   "execution_count": 4,
   "id": "394765d9",
   "metadata": {},
   "outputs": [],
   "source": [
    "ddir = '/home/oyvindl/work/projects/barents_glaciers/glacierocean-austfonna/data/'"
   ]
  },
  {
   "cell_type": "code",
   "execution_count": 5,
   "id": "4eadf316",
   "metadata": {},
   "outputs": [],
   "source": [
    "# M1 mooring\n",
    "m1 = pickle_load(ddir + 'm1_mooring/data/collected/m1_concerto_collected.p')"
   ]
  },
  {
   "cell_type": "code",
   "execution_count": 6,
   "id": "2228125f",
   "metadata": {},
   "outputs": [],
   "source": [
    "# Advance rates\n",
    "adv = pickle_load(ddir + 'glacier_fronts/python/SS_HB_ADVRATES.p')"
   ]
  },
  {
   "cell_type": "code",
   "execution_count": 7,
   "id": "36739e55",
   "metadata": {},
   "outputs": [],
   "source": [
    "# Runoff\n",
    "run = pickle_load(ddir + 'runoff/data/runoff_storisstraumen_2014_2022.p')"
   ]
  },
  {
   "cell_type": "code",
   "execution_count": 8,
   "id": "5ec08932",
   "metadata": {},
   "outputs": [],
   "source": [
    "# Glacier velocity \n",
    "vel = pickle_load(ddir + 'glacier_vel/storisstraumen_vel.p')"
   ]
  },
  {
   "cell_type": "markdown",
   "id": "038f2958",
   "metadata": {},
   "source": [
    "### Figure"
   ]
  },
  {
   "cell_type": "code",
   "execution_count": 9,
   "id": "33650422",
   "metadata": {},
   "outputs": [],
   "source": [
    "ca()"
   ]
  },
  {
   "cell_type": "code",
   "execution_count": 10,
   "id": "a4ee447a",
   "metadata": {},
   "outputs": [],
   "source": [
    "pretty.rc()"
   ]
  },
  {
   "cell_type": "code",
   "execution_count": 11,
   "id": "1fc18e54",
   "metadata": {
    "scrolled": true
   },
   "outputs": [
    {
     "name": "stderr",
     "output_type": "stream",
     "text": [
      "findfont: Font family ['serif'] not found. Falling back to DejaVu Sans.\n",
      "findfont: Generic family 'serif' not found because none of the following families were found: Arial\n"
     ]
    }
   ],
   "source": [
    "fig = plt.figure(figsize = (18, 7))\n",
    "ROWS = [2, 2, 3, 3,]\n",
    "starts = np.concatenate([np.array([0]),  np.cumsum(ROWS)[:-1]])\n",
    "axs = []\n",
    "nrows = np.array(ROWS).sum()\n",
    "ii = 0\n",
    "axn = None\n",
    "for nn, nrow in enumerate(ROWS):\n",
    "    axs += [plt.subplot2grid((nrows, 1), (starts[nn], 0), rowspan = ROWS[nn], sharex = axn)]\n",
    "    axn = axs[0]"
   ]
  },
  {
   "cell_type": "code",
   "execution_count": 12,
   "id": "29aa40e1",
   "metadata": {},
   "outputs": [
    {
     "data": {
      "text/plain": [
       "Text(183.22222222222223, 0.5, 'm$^3$ day$^{-1}$')"
      ]
     },
     "execution_count": 12,
     "metadata": {},
     "output_type": "execute_result"
    },
    {
     "name": "stderr",
     "output_type": "stream",
     "text": [
      "findfont: Font family ['cursive'] not found. Falling back to DejaVu Sans.\n",
      "findfont: Generic family 'cursive' not found because none of the following families were found: Apple Chancery, Textile, Zapf Chancery, Sand, Script MT, Felipa, Comic Neue, Comic Sans MS, cursive\n",
      "findfont: Font family ['Arial'] not found. Falling back to DejaVu Sans.\n"
     ]
    }
   ],
   "source": [
    "## Runoff\n",
    "axs[0].fill_between(run.t,  run.runoff_sshb, color = col.col('v'))\n",
    "axs[0].set_ylabel('m$^3$ day$^{-1}$')\n",
    "#axs[0].set_ylim(0, 700)"
   ]
  },
  {
   "cell_type": "code",
   "execution_count": 20,
   "id": "79f6820c",
   "metadata": {},
   "outputs": [
    {
     "data": {
      "text/plain": [
       "(2.0, 9.0)"
      ]
     },
     "execution_count": 20,
     "metadata": {},
     "output_type": "execute_result"
    }
   ],
   "source": [
    "## Glacier vel\n",
    "axs[1].plot(vel.t,  vel.v_m_day, '.', ms = 3, color = col.col('gray'), )\n",
    "axs[1].set_ylabel('m day$^{-1}$')\n",
    "axs[1].set_yticks([2, 4, 6, 8])\n",
    "axs[1].set_ylim(2, 9)"
   ]
  },
  {
   "cell_type": "code",
   "execution_count": 13,
   "id": "51b67eee",
   "metadata": {},
   "outputs": [
    {
     "data": {
      "text/plain": [
       "Text(172.59722222222223, 0.5, 'm day$^{-1}$')"
      ]
     },
     "execution_count": 13,
     "metadata": {},
     "output_type": "execute_result"
    }
   ],
   "source": [
    "## Retreat rate\n",
    "advrate = adv.storis\n",
    "ti = np.arange(date2num(adv.time[0]), date2num(adv.time[-1])+1, 0.5)\n",
    "\n",
    "advrate_pos = ip.interp1(date2num(adv.time), advrate.copy(), ti)\n",
    "advrate_neg = ip.interp1(date2num(adv.time), advrate.copy(), ti)\n",
    "advrate_pos[advrate_pos<0] = np.nan\n",
    "advrate_neg[advrate_neg>0] = np.nan\n",
    "\n",
    "axs[2].plot(adv.time, advrate, '-', color = col.col('k'), lw = 1)\n",
    "#axs[2].plot(adv.time, adv.hartog, ':', color = col.col('k'), lw = 1)\n",
    "\n",
    "fillkws = {'alpha':0.7}\n",
    "axs[2].fill_between(ti, advrate_pos,  color = col.col('b'), **fillkws)\n",
    "axs[2].fill_between(ti, advrate_neg,  color = col.col('r'), **fillkws)\n",
    "axs[2].invert_yaxis()\n",
    "axs[2].set_ylabel('m day$^{-1}$')"
   ]
  },
  {
   "cell_type": "code",
   "execution_count": 19,
   "id": "f045c477",
   "metadata": {},
   "outputs": [
    {
     "data": {
      "text/plain": [
       "[<matplotlib.lines.Line2D at 0x7ff19fd26e20>]"
      ]
     },
     "execution_count": 19,
     "metadata": {},
     "output_type": "execute_result"
    }
   ],
   "source": [
    "fig, ax = plt.subplots()\n",
    "ax.plot(np.diff(date2num(adv.time)))"
   ]
  },
  {
   "cell_type": "code",
   "execution_count": 22,
   "id": "13f99b05",
   "metadata": {},
   "outputs": [],
   "source": [
    "#col.plotcols()"
   ]
  },
  {
   "cell_type": "code",
   "execution_count": 23,
   "id": "b70f6a73",
   "metadata": {},
   "outputs": [
    {
     "data": {
      "text/plain": [
       "[<matplotlib.lines.Line2D at 0x7fece3bee970>]"
      ]
     },
     "execution_count": 23,
     "metadata": {},
     "output_type": "execute_result"
    }
   ],
   "source": [
    "## M1 temperature 90 m\n",
    "runs = 31\n",
    "\n",
    "axs[3].plot(m1.ctd_20m.time, m1.ctd_20m.T, '-', \n",
    "            color = col.col('g'), lw = 1, alpha = 0.3, clip_on = False)\n",
    "axs[3].plot(m1.ctd_20m.time, rs(m1.ctd_20m.T, runs).mean, '-', \n",
    "            color = col.col('g'), lw = 2.8, clip_on = False)\n",
    "axs[3].plot(m1.ctd_90m.time, m1.ctd_90m.T, '-', \n",
    "            color = col.col('o'), lw = 1, alpha = 0.3, clip_on = False)\n",
    "axs[3].plot(m1.ctd_90m.time, rs(m1.ctd_90m.T, runs).mean, '-', \n",
    "            color = col.col('o'), lw = 2.8, clip_on = False)\n"
   ]
  },
  {
   "cell_type": "code",
   "execution_count": 24,
   "id": "be3fb4b6",
   "metadata": {},
   "outputs": [
    {
     "data": {
      "text/plain": [
       "(17744.0, 19297.0)"
      ]
     },
     "execution_count": 24,
     "metadata": {},
     "output_type": "execute_result"
    }
   ],
   "source": [
    "axs[3].set_xlim(dt.date(2018, 8, 1), dt.date(2022, 11, 1))"
   ]
  },
  {
   "cell_type": "code",
   "execution_count": 25,
   "id": "f878ffc4",
   "metadata": {},
   "outputs": [],
   "source": [
    "plt.tight_layout()\n",
    "for axn in axs:\n",
    "    pretty.lrbars(axn)\n",
    "    pretty.axthick(axn)\n",
    "    for yr in np.arange(2018, 2023):\n",
    "        vl_kws = {'alpha':0.3}\n",
    "        pl.vline(dt.date(yr, 10, 1), ax = axn, **vl_kws)\n",
    "        pl.vline(dt.date(yr, 4, 1), ax = axn, **vl_kws, ls = ':')\n",
    "    pretty.rotate_y(axn)"
   ]
  },
  {
   "cell_type": "code",
   "execution_count": 26,
   "id": "bea7be59",
   "metadata": {},
   "outputs": [],
   "source": [
    "figdir = './'\n",
    "fig.savefig(figdir + 'composite_ts.pdf', bbox_inches = 'tight', transparent = True)\n",
    "fig.savefig(figdir + 'composite_ts.png', bbox_inches = 'tight', transparent = True)"
   ]
  },
  {
   "cell_type": "code",
   "execution_count": 27,
   "id": "3fdc395c",
   "metadata": {},
   "outputs": [
    {
     "data": {
      "text/plain": [
       "'/home/oyvindl/work/projects/barents_glaciers/glacierocean-austfonna/figures/combined_time_series'"
      ]
     },
     "execution_count": 27,
     "metadata": {},
     "output_type": "execute_result"
    }
   ],
   "source": [
    "pwd"
   ]
  },
  {
   "cell_type": "code",
   "execution_count": null,
   "id": "f6276277",
   "metadata": {},
   "outputs": [],
   "source": [
    "ca()"
   ]
  },
  {
   "cell_type": "code",
   "execution_count": null,
   "id": "2cdec64f",
   "metadata": {},
   "outputs": [],
   "source": []
  },
  {
   "cell_type": "code",
   "execution_count": null,
   "id": "efaec0c5",
   "metadata": {},
   "outputs": [],
   "source": [
    "from s"
   ]
  }
 ],
 "metadata": {
  "kernelspec": {
   "display_name": "Python [conda env:oyv] *",
   "language": "python",
   "name": "conda-env-oyv-py"
  },
  "language_info": {
   "codemirror_mode": {
    "name": "ipython",
    "version": 3
   },
   "file_extension": ".py",
   "mimetype": "text/x-python",
   "name": "python",
   "nbconvert_exporter": "python",
   "pygments_lexer": "ipython3",
   "version": "3.8.2"
  }
 },
 "nbformat": 4,
 "nbformat_minor": 5
}
