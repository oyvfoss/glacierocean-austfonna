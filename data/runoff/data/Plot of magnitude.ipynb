{
 "cells": [
  {
   "cell_type": "code",
   "execution_count": 5,
   "id": "7abe05a9",
   "metadata": {},
   "outputs": [],
   "source": [
    "from oyv.imports import *\n",
    "import pandas as pd\n",
    "import glob\n",
    "from oyv.map import quickmap\n",
    "from cartopy import feature as cfeature\n",
    "from cartopy import crs as ccrs\n",
    "from cartopy.io.shapereader import Reader\n",
    "from cartopy.feature import ShapelyFeature"
   ]
  },
  {
   "cell_type": "code",
   "execution_count": 6,
   "id": "685b7e16",
   "metadata": {},
   "outputs": [],
   "source": [
    "figdir = '/home/oyvindl/work/projects/barents_glaciers/figures/runoff_mod/'"
   ]
  },
  {
   "cell_type": "code",
   "execution_count": 7,
   "id": "00b7584d",
   "metadata": {},
   "outputs": [],
   "source": [
    "ddir = '/home/oyvindl/work/projects/barents_glaciers/data/runoff_model/most_recent_louise/Avrenning_Austfonna_2022/'\n",
    "fns = glob.glob(ddir + '*.dat')"
   ]
  },
  {
   "cell_type": "code",
   "execution_count": 8,
   "id": "21be80d6",
   "metadata": {},
   "outputs": [],
   "source": [
    "fact_m3_day =1e9/86400 # Double check - assuming 1000 kg/m3 "
   ]
  },
  {
   "cell_type": "code",
   "execution_count": 9,
   "id": "ca6004bc",
   "metadata": {},
   "outputs": [],
   "source": [
    "A = pd.read_csv(fns[0], sep = ',')\n",
    "ARR = A.to_numpy()"
   ]
  },
  {
   "cell_type": "markdown",
   "id": "595512f0",
   "metadata": {},
   "source": [
    "# Define indices"
   ]
  },
  {
   "cell_type": "code",
   "execution_count": 72,
   "id": "a7d040f7",
   "metadata": {},
   "outputs": [],
   "source": [
    "nns_ss = [513, 518, 522, 524, 525, 526] # \n",
    "nns_hb = [521, 520] # "
   ]
  },
  {
   "cell_type": "code",
   "execution_count": 25,
   "id": "332864b4",
   "metadata": {},
   "outputs": [],
   "source": [
    "B = Bunch()\n",
    "B.lon, B.lat = A.Longitude.to_numpy(), A.Latitude .to_numpy()\n",
    "\n",
    "for key in ['t', 'runoff_all']:\n",
    "    B[key] = np.ma.array([])\n",
    "\n",
    "B.sum_FWC_2018_2020 = np.zeros(ARR.shape[0])\n",
    "\n",
    "for yr in np.arange(2014, 2023):\n",
    "    fn_yr = 'runoff_Austfonna_%i_k_0.9.dat'%yr\n",
    "    A = pd.read_csv(ddir + fn_yr, sep = ',')\n",
    "    ARR = A.to_numpy()\n",
    "    \n",
    "    ndays = ARR.shape[1]-4\n",
    "    B.t = np.concatenate([B.t, num2date(date2num(dt.date(yr, 1, 1)) +\n",
    "                                        np.arange(ndays))])\n",
    "    B.runoff_all = np.concatenate([B.runoff_all, \n",
    "                                   ARR[:, 4:].sum(axis = 0)])\n",
    "    if yr < 2021:\n",
    "        B.sum_FWC_2018_2020 += ARR[:, 4:].sum(axis = 1)"
   ]
  },
  {
   "cell_type": "markdown",
   "id": "dac518b5",
   "metadata": {},
   "source": [
    "### Map"
   ]
  },
  {
   "cell_type": "code",
   "execution_count": 10,
   "id": "29426f53",
   "metadata": {},
   "outputs": [
    {
     "name": "stderr",
     "output_type": "stream",
     "text": [
      "/tmp/ipykernel_21963/209499429.py:4: UserWarning: The default value for the *approx* keyword argument to TransverseMercator will change from True to False after 0.18.\n",
      "  proj_33n = ccrs.TransverseMercator(central_longitude=15, central_latitude=0.0, scale_factor=0.9996,\n"
     ]
    }
   ],
   "source": [
    "# Define projections\n",
    "cproj = ccrs.Orthographic(central_longitude=20, \n",
    "                          central_latitude=78, globe=None)\n",
    "proj_33n = ccrs.TransverseMercator(central_longitude=15, central_latitude=0.0, scale_factor=0.9996,\n",
    "              false_easting=500000.0, false_northing = 0)"
   ]
  },
  {
   "cell_type": "code",
   "execution_count": 42,
   "id": "d1b94c8b",
   "metadata": {},
   "outputs": [],
   "source": [
    "# Load glacier basin data shapefile\n",
    "coast_name = '/home/oyvindl/work/projects/barents_glaciers/data/GI2020_jack/GI2020_merge_test.shp'\n",
    "shape_feature = ShapelyFeature(Reader(coast_name).geometries(),\n",
    "                               proj_33n,  facecolor='w', edgecolor = 'k', lw = 0.2)"
   ]
  },
  {
   "cell_type": "code",
   "execution_count": 51,
   "id": "b43a5501",
   "metadata": {},
   "outputs": [],
   "source": [
    "ca()"
   ]
  },
  {
   "cell_type": "code",
   "execution_count": 52,
   "id": "1e9927cb",
   "metadata": {},
   "outputs": [],
   "source": [
    "fig = plt.figure()\n",
    "ax = plt.axes(projection=cproj)\n",
    "ax.coastlines()\n",
    "ax.add_feature(cfeature.LAND, color = [0.5, 0.5, 0.5])\n",
    "ax.set_extent([18, 28, 79, 80.8], crs=ccrs.PlateCarree())\n",
    "ax.add_feature(shape_feature)\n",
    "ax.set_facecolor(col.col('b', sec = True))"
   ]
  },
  {
   "cell_type": "code",
   "execution_count": 53,
   "id": "f488a028",
   "metadata": {},
   "outputs": [
    {
     "data": {
      "text/plain": [
       "<matplotlib.collections.PathCollection at 0x7f2e1fa36160>"
      ]
     },
     "execution_count": 53,
     "metadata": {},
     "output_type": "execute_result"
    }
   ],
   "source": [
    "ax.scatter(A.Longitude.to_numpy(), A.Latitude.to_numpy(), \n",
    "           2, color = 'k', transform = ccrs.PlateCarree())\n"
   ]
  },
  {
   "cell_type": "code",
   "execution_count": 49,
   "id": "019973ff",
   "metadata": {},
   "outputs": [],
   "source": [
    "maxsize = 1500"
   ]
  },
  {
   "cell_type": "code",
   "execution_count": 29,
   "id": "c7a784d8",
   "metadata": {},
   "outputs": [
    {
     "data": {
      "text/plain": [
       "<matplotlib.collections.PathCollection at 0x7f2e1f2457f0>"
      ]
     },
     "execution_count": 29,
     "metadata": {},
     "output_type": "execute_result"
    }
   ],
   "source": [
    "ax.scatter(A.Longitude, A.Latitude, s = B.sum_FWC_2018_2020/B.sum_FWC_2018_2020.max()*maxsize/3, \n",
    "          marker = 'o', alpha = 0.7,\n",
    "          edgecolor = col.col('r'), color = col.col('r', sec = True), \n",
    "           transform = ccrs.PlateCarree(), zorder = 10)\n"
   ]
  },
  {
   "cell_type": "code",
   "execution_count": 32,
   "id": "3cf28da1",
   "metadata": {},
   "outputs": [
    {
     "data": {
      "text/plain": [
       "Text(30.2, 80.46000000000001, '500 MT yr$^{-1}$')"
      ]
     },
     "execution_count": 32,
     "metadata": {},
     "output_type": "execute_result"
    }
   ],
   "source": [
    "# Legend\n",
    "legcoords = (30.2, 80.4)\n",
    "legsize = 0.5\n",
    "ax.scatter(*legcoords, s = legsize/B.sum_FWC_2018_2020.max()*maxsize, marker = 'o', \n",
    "          edgecolor = col.col('r'), color = col.col('r', sec = True), transform = ccrs.PlateCarree(), zorder = 10)\n",
    "ax.text(legcoords[0], legcoords[1]+0.06, '%.0f MT yr$^{-1}$'%(legsize*1e3),  \n",
    "        zorder = 10, va = 'bottom', ha = 'center', transform = ccrs.PlateCarree(),)"
   ]
  },
  {
   "cell_type": "code",
   "execution_count": null,
   "id": "2fd7c180",
   "metadata": {},
   "outputs": [],
   "source": []
  }
 ],
 "metadata": {
  "kernelspec": {
   "display_name": "Python [conda env:oyv] *",
   "language": "python",
   "name": "conda-env-oyv-py"
  },
  "language_info": {
   "codemirror_mode": {
    "name": "ipython",
    "version": 3
   },
   "file_extension": ".py",
   "mimetype": "text/x-python",
   "name": "python",
   "nbconvert_exporter": "python",
   "pygments_lexer": "ipython3",
   "version": "3.8.2"
  }
 },
 "nbformat": 4,
 "nbformat_minor": 5
}
