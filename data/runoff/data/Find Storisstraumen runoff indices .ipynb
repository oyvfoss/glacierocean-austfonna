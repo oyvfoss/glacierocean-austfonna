{
 "cells": [
  {
   "cell_type": "code",
   "execution_count": 1,
   "id": "7abe05a9",
   "metadata": {},
   "outputs": [],
   "source": [
    "from oyv.imports import *\n",
    "import pandas as pd\n",
    "import glob\n",
    "from oyv.map import quickmap\n",
    "from cartopy import feature as cfeature\n",
    "from cartopy import crs as ccrs\n",
    "from cartopy.io.shapereader import Reader\n",
    "from cartopy.feature import ShapelyFeature"
   ]
  },
  {
   "cell_type": "code",
   "execution_count": 2,
   "id": "09f5c0ba",
   "metadata": {},
   "outputs": [],
   "source": [
    "pretty.rc()"
   ]
  },
  {
   "cell_type": "code",
   "execution_count": 81,
   "id": "685b7e16",
   "metadata": {},
   "outputs": [],
   "source": [
    "figdir = '/home/oyvindl/work/projects/barents_glaciers/glacierocean-austfonna/data/runoff/figures/'"
   ]
  },
  {
   "cell_type": "code",
   "execution_count": 4,
   "id": "00b7584d",
   "metadata": {},
   "outputs": [],
   "source": [
    "ddir = '/home/oyvindl/work/projects/barents_glaciers/data/runoff_model/most_recent_louise/Avrenning_Austfonna_2022/'\n",
    "fns = glob.glob(ddir + '*.dat')"
   ]
  },
  {
   "cell_type": "code",
   "execution_count": 80,
   "id": "21be80d6",
   "metadata": {},
   "outputs": [],
   "source": [
    "fact_m3_day =1e9 # Double check - assuming 1000 kg/m3 "
   ]
  },
  {
   "cell_type": "code",
   "execution_count": 71,
   "id": "ca6004bc",
   "metadata": {},
   "outputs": [],
   "source": [
    "A = pd.read_csv(fns[0], sep = ',')\n",
    "ARR = A.to_numpy()"
   ]
  },
  {
   "cell_type": "markdown",
   "id": "1fe50e49",
   "metadata": {},
   "source": [
    "# Define indices"
   ]
  },
  {
   "cell_type": "code",
   "execution_count": 72,
   "id": "c4a92ad9",
   "metadata": {},
   "outputs": [],
   "source": [
    "nns_ss = [513, 518, 522, 524, 525, 526] # \n",
    "nns_hb = [521, 520] # "
   ]
  },
  {
   "cell_type": "markdown",
   "id": "792f4a63",
   "metadata": {},
   "source": [
    "### Map"
   ]
  },
  {
   "cell_type": "code",
   "execution_count": null,
   "id": "95243a78",
   "metadata": {},
   "outputs": [],
   "source": []
  },
  {
   "cell_type": "code",
   "execution_count": 73,
   "id": "cd938228",
   "metadata": {},
   "outputs": [
    {
     "name": "stderr",
     "output_type": "stream",
     "text": [
      "/tmp/ipykernel_16965/209499429.py:4: UserWarning: The default value for the *approx* keyword argument to TransverseMercator will change from True to False after 0.18.\n",
      "  proj_33n = ccrs.TransverseMercator(central_longitude=15, central_latitude=0.0, scale_factor=0.9996,\n"
     ]
    }
   ],
   "source": [
    "# Define projections\n",
    "cproj = ccrs.Orthographic(central_longitude=20, \n",
    "                          central_latitude=78, globe=None)\n",
    "proj_33n = ccrs.TransverseMercator(central_longitude=15, central_latitude=0.0, scale_factor=0.9996,\n",
    "              false_easting=500000.0, false_northing = 0)"
   ]
  },
  {
   "cell_type": "code",
   "execution_count": 74,
   "id": "54216103",
   "metadata": {},
   "outputs": [],
   "source": [
    "# Load glacier basin data shapefile\n",
    "coast_name = '/home/oyvindl/work/projects/barents_glaciers/data/GI2020_jack/GI2020_merge_test.shp'\n",
    "shape_feature = ShapelyFeature(Reader(coast_name).geometries(),\n",
    "                               proj_33n,  facecolor='w', edgecolor = 'gray')"
   ]
  },
  {
   "cell_type": "code",
   "execution_count": 75,
   "id": "163d95ec",
   "metadata": {},
   "outputs": [],
   "source": [
    "ca()"
   ]
  },
  {
   "cell_type": "code",
   "execution_count": null,
   "id": "88b0d0bc",
   "metadata": {},
   "outputs": [],
   "source": [
    "ca()"
   ]
  },
  {
   "cell_type": "code",
   "execution_count": 78,
   "id": "b1a74a7f",
   "metadata": {},
   "outputs": [
    {
     "data": {
      "text/plain": [
       "<cartopy.mpl.feature_artist.FeatureArtist at 0x7f4cab462640>"
      ]
     },
     "execution_count": 78,
     "metadata": {},
     "output_type": "execute_result"
    },
    {
     "name": "stderr",
     "output_type": "stream",
     "text": [
      "/home/oyvindl/anaconda3/envs/oyv/lib/python3.8/site-packages/cartopy/crs.py:245: ShapelyDeprecationWarning: __len__ for multi-part geometries is deprecated and will be removed in Shapely 2.0. Check the length of the `geoms` property instead to get the  number of parts of a multi-part geometry.\n",
      "  if len(multi_line_string) > 1:\n",
      "/home/oyvindl/anaconda3/envs/oyv/lib/python3.8/site-packages/cartopy/crs.py:297: ShapelyDeprecationWarning: Iteration over multi-part geometries is deprecated and will be removed in Shapely 2.0. Use the `geoms` property to access the constituent parts of a multi-part geometry.\n",
      "  for line in multi_line_string:\n",
      "/home/oyvindl/anaconda3/envs/oyv/lib/python3.8/site-packages/cartopy/crs.py:364: ShapelyDeprecationWarning: __len__ for multi-part geometries is deprecated and will be removed in Shapely 2.0. Check the length of the `geoms` property instead to get the  number of parts of a multi-part geometry.\n",
      "  if len(p_mline) > 0:\n"
     ]
    }
   ],
   "source": [
    "fig = plt.figure()\n",
    "ax = plt.axes(projection=cproj)\n",
    "ax.set_facecolor(col.col('b', sec = True))\n",
    "ax.coastlines()\n",
    "ax.add_feature(cfeature.NaturalEarthFeature('physical', 'land', '10m', \\\n",
    "                                                edgecolor='k', facecolor='gray'), zorder=0)\n",
    "ax.set_extent([15, 30, 78.5, 81], crs=ccrs.PlateCarree())\n",
    "ax.add_feature(shape_feature)"
   ]
  },
  {
   "cell_type": "code",
   "execution_count": 79,
   "id": "55e5a412",
   "metadata": {},
   "outputs": [],
   "source": [
    "ax.scatter(A.Longitude.to_numpy(), A.Latitude.to_numpy(), \n",
    "           5, color = 'k', transform = ccrs.PlateCarree())\n",
    "\n",
    "\n",
    "ax.scatter(A.Longitude.to_numpy()[nns_ss], A.Latitude.to_numpy()[nns_ss], 30, marker = 'o',\n",
    "               color = col.col('r'), transform = ccrs.PlateCarree(), edgecolor = 'k', label = 'Storisstraumen')\n",
    "     \n",
    "ax.scatter(A.Longitude.to_numpy()[nns_hb], A.Latitude.to_numpy()[nns_hb], 30, edgecolor = 'k',  marker = 'o',\n",
    "               color =  col.col('y'),\n",
    "            transform = ccrs.PlateCarree(), label = 'Hartogbukta')\n",
    "    \n",
    "ax.legend()\n",
    "\n",
    "fig.savefig(figdir + 'runoff_basins_map.png', bbox_inches = 'tight')\n",
    "\n",
    "ax.set_xlim(-21435.76045598561, 178211.52785024236)\n",
    "ax.set_ylim(90963.09711227723, 296849.3631780749)\n",
    "\n",
    "fig.savefig(figdir + 'runoff_basins_map_zoom.png', bbox_inches = 'tight')\n"
   ]
  },
  {
   "cell_type": "code",
   "execution_count": 65,
   "id": "d5378f87",
   "metadata": {},
   "outputs": [
    {
     "data": {
      "text/plain": [
       "(90963.09711227723, 296849.3631780749)"
      ]
     },
     "execution_count": 65,
     "metadata": {},
     "output_type": "execute_result"
    }
   ],
   "source": [
    "ax.get_ylim()"
   ]
  },
  {
   "cell_type": "code",
   "execution_count": 66,
   "id": "ed3c5d9d",
   "metadata": {},
   "outputs": [],
   "source": []
  },
  {
   "cell_type": "code",
   "execution_count": null,
   "id": "d29010ad",
   "metadata": {},
   "outputs": [],
   "source": []
  }
 ],
 "metadata": {
  "kernelspec": {
   "display_name": "Python [conda env:oyv] *",
   "language": "python",
   "name": "conda-env-oyv-py"
  },
  "language_info": {
   "codemirror_mode": {
    "name": "ipython",
    "version": 3
   },
   "file_extension": ".py",
   "mimetype": "text/x-python",
   "name": "python",
   "nbconvert_exporter": "python",
   "pygments_lexer": "ipython3",
   "version": "3.8.2"
  }
 },
 "nbformat": 4,
 "nbformat_minor": 5
}
