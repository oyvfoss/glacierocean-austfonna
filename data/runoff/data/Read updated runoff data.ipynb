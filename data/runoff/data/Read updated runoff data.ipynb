{
 "cells": [
  {
   "cell_type": "markdown",
   "id": "c889f32f",
   "metadata": {},
   "source": [
    "Read the updated runoff data from Louise (now also updated through fall 2022)\n",
    "\n",
    "- Extract for SS and HB"
   ]
  },
  {
   "cell_type": "code",
   "execution_count": 1,
   "id": "7abe05a9",
   "metadata": {},
   "outputs": [],
   "source": [
    "from oyv.imports import *\n",
    "import pandas as pd\n",
    "import glob\n",
    "from oyv.map import quickmap\n"
   ]
  },
  {
   "cell_type": "code",
   "execution_count": 2,
   "id": "09f5c0ba",
   "metadata": {},
   "outputs": [],
   "source": [
    "pretty.rc()"
   ]
  },
  {
   "cell_type": "code",
   "execution_count": 3,
   "id": "685b7e16",
   "metadata": {},
   "outputs": [],
   "source": [
    "figdir = '/home/oyvindl/work/projects/barents_glaciers/figures/runoff_mod/'"
   ]
  },
  {
   "cell_type": "code",
   "execution_count": 13,
   "id": "00b7584d",
   "metadata": {},
   "outputs": [],
   "source": [
    "#ddir = '/home/oyvindl/work/projects/barents_glaciers/data/runoff_model/most_recent_louise/Avrenning_Austfonna_2022/'\n",
    "ddir = '/home/oyvindl/work/projects/barents_glaciers/glacierocean-austfonna/data/runoff/data/runoff_model_data_louise/'\n",
    "fns = glob.glob(ddir + '*.dat')"
   ]
  },
  {
   "cell_type": "markdown",
   "id": "b3838604",
   "metadata": {},
   "source": [
    "#### Units\n",
    "\n",
    "\n",
    "From Louise: Units are **GT/day**\n",
    "\n",
    "I want **m3/sec**. Assuming 1000 kg/m3, this is equivalent to **tons/sec**\n",
    "\n",
    "\n"
   ]
  },
  {
   "cell_type": "code",
   "execution_count": 14,
   "id": "21be80d6",
   "metadata": {},
   "outputs": [],
   "source": [
    "fact_m3_day =1e9/86400 # Double check - assuming 1000 kg/m3 "
   ]
  },
  {
   "cell_type": "code",
   "execution_count": 15,
   "id": "ca6004bc",
   "metadata": {},
   "outputs": [],
   "source": [
    "A = pd.read_csv(fns[0], sep = ',')\n",
    "ARR = A.to_numpy()"
   ]
  },
  {
   "cell_type": "code",
   "execution_count": 16,
   "id": "e17633ae",
   "metadata": {},
   "outputs": [],
   "source": [
    "ca()"
   ]
  },
  {
   "cell_type": "code",
   "execution_count": 17,
   "id": "d86f1c3c",
   "metadata": {},
   "outputs": [],
   "source": [
    "nns_ss = [513, 518, 522, 524, 525, 526] # \n",
    "nns_hb = [521, 520] # \n",
    "nns_hbss = nns_ss + nns_hb"
   ]
  },
  {
   "cell_type": "code",
   "execution_count": 18,
   "id": "62dfcab8",
   "metadata": {},
   "outputs": [],
   "source": [
    "#if False:# mqap of locations\n",
    "if True:\n",
    "    fig, ax = plt.subplots()\n",
    "    m = quickmap.map_stere(3, 2, ax = ax, oc_col = 'w', lat0=79.7, lon0 =23, res = 'i')\n",
    "    m.plot(A.Longitude.to_numpy(), A.Latitude.to_numpy(), '.k', latlon = True)\n",
    "\n",
    "    for nn in nns_ss:\n",
    "        m.plot(A.Longitude.to_numpy()[nn], A.Latitude.to_numpy()[nn], '*r', \n",
    "           ms = 10, latlon = True, label = nn)\n",
    "    for nn in nns_hb:\n",
    "        m.plot(A.Longitude.to_numpy()[nn], A.Latitude.to_numpy()[nn], '*b', \n",
    "           ms = 10, latlon = True, label = nn)\n",
    "    ax.legend()"
   ]
  },
  {
   "cell_type": "code",
   "execution_count": 19,
   "id": "676224bf",
   "metadata": {},
   "outputs": [],
   "source": [
    "B = Bunch()\n",
    "B.lon, B.lat = A.Longitude, A.Latitude \n",
    "\n",
    "for key in ['t', 'runoff_hb', 'runoff_ss', 'runoff_hbss', 'runoff_all']:\n",
    "    B[key] = np.ma.array([])\n",
    "\n",
    "B.sum_FWC_all = np.zeros(ARR.shape[0])\n",
    "\n",
    "for yr in np.arange(2014, 2023):\n",
    "    fn_yr = 'runoff_Austfonna_%i_k_0.9.dat'%yr\n",
    "    A = pd.read_csv(ddir + fn_yr, sep = ',')\n",
    "    ARR = A.to_numpy()\n",
    "    \n",
    "    ndays = ARR.shape[1]-4\n",
    "    B.t = np.concatenate([B.t, num2date(date2num(dt.date(yr, 1, 1)) +\n",
    "                                        np.arange(ndays)+0.5)])\n",
    "    B.runoff_hb = np.concatenate([B.runoff_hb, ARR[nns_hb, 4:].sum(axis = 0)])\n",
    "    B.runoff_ss = np.concatenate([B.runoff_ss, ARR[nns_ss, 4:].sum(axis = 0)])\n",
    "    B.runoff_hbss = np.concatenate([B.runoff_hbss, ARR[nns_hbss, 4:].sum(axis = 0)])\n",
    "    B.runoff_all = np.concatenate([B.runoff_all,  \n",
    "                                   ARR[:, 4:].sum(axis = 0)])\n",
    "    B.sum_FWC_all += ARR[:, 4:].sum(axis = 1)\n",
    "    "
   ]
  },
  {
   "cell_type": "code",
   "execution_count": 20,
   "id": "43227c69",
   "metadata": {},
   "outputs": [],
   "source": [
    "ca()"
   ]
  },
  {
   "cell_type": "code",
   "execution_count": 21,
   "id": "5661eb06",
   "metadata": {},
   "outputs": [],
   "source": [
    "fig, ax = plt.subplots(3, 1, sharex = True, figsize = (10, 8))\n",
    "\n",
    "plkws = {'alpha':0.9}\n",
    "fillkws = {'alpha':0.3}\n",
    "\n",
    "ax[0].set_title('Total runoff, all glaciers')\n",
    "ax[0].fill_between(B.t, B.runoff_all*fact_m3_day, \n",
    "           color = col.col('g'), **fillkws)\n",
    "ax[0].plot(B.t, B.runoff_all*fact_m3_day, \n",
    "           color = col.col('g'), **plkws)\n",
    "ax[0].set_ylabel('[m$^3$ s$^{-1}$]')\n",
    "\n",
    "ax[1].fill_between(B.t, B.runoff_hb*fact_m3_day,\n",
    "           color = col.col('o'), **fillkws, label = 'Hartogbukta')\n",
    "ax[1].plot(B.t, B.runoff_hb*fact_m3_day, color = col.col('o'), **plkws)\n",
    "ax[1].fill_between(B.t, B.runoff_hb*fact_m3_day, (B.runoff_hb+B.runoff_ss)*fact_m3_day,\n",
    "           color = col.col('b'), **fillkws, label = 'Storisstr')\n",
    "ax[1].plot(B.t, (B.runoff_hb+B.runoff_ss)*fact_m3_day, color = col.col('k'), label = 'SS+HB', **plkws)\n",
    "ax[1].set_title('Runoff, Storisstraumen area')\n",
    "ax[1].set_ylabel('[m$^3$ s$^{-1}$]')\n",
    "ax[1].legend(loc = 2, handlelength = 1, fontsize = 10)\n",
    "\n",
    "W = 100  \n",
    "ax[2].fill_between(B.t, B.runoff_hb*fact_m3_day/W,\n",
    "           color = col.col('o'), **fillkws)\n",
    "ax[2].plot(B.t, B.runoff_hb*fact_m3_day/W, label = 'Hartogbukta', color = col.col('o'), **plkws)\n",
    "ax[2].fill_between(B.t, B.runoff_ss*fact_m3_day/W,\n",
    "           color = col.col('b'), **fillkws)\n",
    "ax[2].plot(B.t, B.runoff_ss*fact_m3_day/W, color = col.col('b'), label = 'Storisstr N', **plkws)\n",
    "ax[2].set_title('Runoff per width with W=%.0f m'%W)\n",
    "ax[2].set_ylabel('[m$^2$ s$^{-1}$]')\n",
    "ax[2].legend(loc = 2, handlelength = 1, fontsize = 10)\n",
    "#.yscale('log')\n",
    "\n",
    "\n",
    "plt.tight_layout()\n",
    "\n",
    "\n",
    "for axn in ax:\n",
    "    pretty.axthick(axn)\n",
    "    pretty.lrbars(axn)\n",
    "    axn.grid(alpha = 0.2)\n",
    "    pretty.ticklabelsize(axn, 10)\n",
    "    \n",
    "pl.ym_xlab(axn, ymonths = [1, 7], fmt = '%b %d\\n%Y',)\n"
   ]
  },
  {
   "cell_type": "code",
   "execution_count": 22,
   "id": "838ed32b",
   "metadata": {},
   "outputs": [],
   "source": [
    "figdir = '/home/oyvindl/work/projects/barents_glaciers/glacierocean-austfonna/data/runoff/figures/'\n",
    "fig.savefig(figdir + 'runoff_time_series_quick.png', bbox_inches = 'tight')"
   ]
  },
  {
   "cell_type": "code",
   "execution_count": 24,
   "id": "9cf08651",
   "metadata": {},
   "outputs": [],
   "source": [
    "D = Bunch()\n",
    "D.t = B.t\n",
    "\n",
    "D.runoff_hartogbukta  = B.runoff_hb*fact_m3_day\n",
    "D.runoff_storisstraumen  = B.runoff_ss*fact_m3_day\n",
    "D.runoff_sshb  = B.runoff_hbss*fact_m3_day\n",
    "D.runoff_all  = B.runoff_all*fact_m3_day\n",
    "\n",
    "D.lon_hb = A.Longitude[nns_hb].to_numpy()\n",
    "D.lat_hb = A.Latitude[nns_hb].to_numpy()\n",
    "D.lon_ss = A.Longitude[nns_ss].to_numpy()\n",
    "D.lat_ss = A.Latitude[nns_ss].to_numpy()\n",
    "\n",
    "D.units = 'm3/second'\n",
    "D.source_script = 'Read updated runoff data.ipynb'\n",
    "D.source_data = fns\n",
    "D.meta = '''\n",
    "Runoff from Louise. Start 1.1.2014, end 4.6.2022.\n",
    "\n",
    "Calculated for runoff points at ss and hb.\n",
    "'''\n",
    "\n",
    "pickle_save(D, 'runoff_storisstraumen_2014_2022.p')"
   ]
  },
  {
   "cell_type": "code",
   "execution_count": null,
   "id": "6294307b",
   "metadata": {},
   "outputs": [],
   "source": []
  }
 ],
 "metadata": {
  "kernelspec": {
   "display_name": "Python [conda env:oyv] *",
   "language": "python",
   "name": "conda-env-oyv-py"
  },
  "language_info": {
   "codemirror_mode": {
    "name": "ipython",
    "version": 3
   },
   "file_extension": ".py",
   "mimetype": "text/x-python",
   "name": "python",
   "nbconvert_exporter": "python",
   "pygments_lexer": "ipython3",
   "version": "3.8.2"
  }
 },
 "nbformat": 4,
 "nbformat_minor": 5
}
