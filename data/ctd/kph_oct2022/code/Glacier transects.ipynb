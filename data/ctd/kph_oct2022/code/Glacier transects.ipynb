{
 "cells": [
  {
   "cell_type": "code",
   "execution_count": 2,
   "id": "1ecaee89",
   "metadata": {},
   "outputs": [
    {
     "name": "stderr",
     "output_type": "stream",
     "text": [
      "playsound is relying on another python subprocess. Please use `pip install pygobject` if you want playsound to run more efficiently.\n"
     ]
    }
   ],
   "source": [
    "import glob\n",
    "from oyv.imports import *"
   ]
  },
  {
   "cell_type": "code",
   "execution_count": 11,
   "id": "fc749d6b",
   "metadata": {},
   "outputs": [],
   "source": [
    "\n",
    "ddir = '../data/'\n",
    "flist = glob.glob(ddir + '*.p')\n",
    "\n",
    "Ds = []\n",
    "for fn in flist:\n",
    "    d = pickle_load(fn)\n",
    "    Ds += [d]"
   ]
  },
  {
   "cell_type": "code",
   "execution_count": 75,
   "id": "c3121aac",
   "metadata": {},
   "outputs": [],
   "source": [
    "## Section away from central Storisstraumen"
   ]
  },
  {
   "cell_type": "code",
   "execution_count": 63,
   "id": "ece11b7c",
   "metadata": {},
   "outputs": [],
   "source": [
    "sso_nums = [279] + list(np.arange(281, 288))\n",
    "L_sso = len(sso_nums)\n",
    "zi = np.arange(0, 251)\n",
    "Nz = len(zi)\n",
    "\n",
    "TEMP = np.ma.zeros([ L_sso, Nz])\n",
    "SAL = np.ma.zeros([ L_sso, Nz])\n",
    "CT = np.ma.zeros([ L_sso, Nz])\n",
    "SA = np.ma.zeros([ L_sso, Nz])\n",
    "LON = np.ma.zeros([ L_sso,])\n",
    "LAT = np.ma.zeros([ L_sso,])\n",
    "\n",
    "\n",
    "for nn, ctdnum in enumerate(sso_nums):\n",
    "    fn = '../data/ctd_%.03i.p'%ctdnum\n",
    "    d = pickle_load(fn)\n",
    "    TEMP[nn, :] = ip.interp1(d.dep, d.T, zi)\n",
    "    SAL[nn, :] = ip.interp1(d.dep, d.SP, zi)\n",
    "    CT[nn, :] = ip.interp1(d.dep, d.CT, zi)\n",
    "    SA[nn, :] = ip.interp1(d.dep, d.SA, zi)\n",
    "    LAT[nn] = d.lat\n",
    "    LON[nn] = d.lon\n",
    "    \n",
    "dx = np.sqrt(navcalc.diffxy_from_lonlat(LON, LAT)[0]**2 + navcalc.diffxy_from_lonlat(LON, LAT)[0]**2)\n",
    "dx[0] = 0\n",
    "x = np.cumsum(dx)"
   ]
  },
  {
   "cell_type": "code",
   "execution_count": 71,
   "id": "6d77dbfa",
   "metadata": {},
   "outputs": [],
   "source": [
    "ca()"
   ]
  },
  {
   "cell_type": "code",
   "execution_count": 72,
   "id": "61b59d36",
   "metadata": {},
   "outputs": [],
   "source": [
    "fig, ax = plt.subplots(figsize = (8,4))\n",
    "C = ax.contourf(x*1e-3, zi, TEMP.T, cmap = col.cm('thermal'))\n",
    "ax.set_ylim(200, 0)\n",
    "cb = plt.colorbar(C)"
   ]
  },
  {
   "cell_type": "code",
   "execution_count": 73,
   "id": "c94b8d45",
   "metadata": {},
   "outputs": [],
   "source": [
    "fig, ax = plt.subplots(figsize = (8,4))\n",
    "C = ax.contourf(x*1e-3, zi, SAL.T, cmap = col.cm('haline'))\n",
    "ax.set_ylim(200, 0)\n",
    "cb = plt.colorbar(C)"
   ]
  },
  {
   "cell_type": "code",
   "execution_count": 74,
   "id": "5254e074",
   "metadata": {},
   "outputs": [
    {
     "data": {
      "text/plain": [
       "[<matplotlib.lines.Line2D at 0x7fa7e34fddc0>,\n",
       " <matplotlib.lines.Line2D at 0x7fa7e34fddf0>,\n",
       " <matplotlib.lines.Line2D at 0x7fa7e34fdf10>,\n",
       " <matplotlib.lines.Line2D at 0x7fa7e3489070>,\n",
       " <matplotlib.lines.Line2D at 0x7fa7e3489190>,\n",
       " <matplotlib.lines.Line2D at 0x7fa7e34892b0>,\n",
       " <matplotlib.lines.Line2D at 0x7fa7e34893d0>,\n",
       " <matplotlib.lines.Line2D at 0x7fa7e34894f0>]"
      ]
     },
     "execution_count": 74,
     "metadata": {},
     "output_type": "execute_result"
    }
   ],
   "source": [
    "fig, ax = plt.subplots(figsize = (4,4))\n",
    "#ax.scatter(SA, CT, marker = '.', color = 'k')\n",
    "ax.plot(SA.T, CT.T,color = 'k')"
   ]
  },
  {
   "cell_type": "markdown",
   "id": "9e4fe0ef",
   "metadata": {},
   "source": [
    "### Section along Storisstraumen"
   ]
  },
  {
   "cell_type": "code",
   "execution_count": 108,
   "id": "b0421302",
   "metadata": {},
   "outputs": [],
   "source": [
    "sso_nums =  list(np.arange(277, 281))\n",
    "L_sso = len(sso_nums)\n",
    "zi = np.arange(0, 251)\n",
    "Nz = len(zi)\n",
    "\n",
    "TEMP = np.ma.zeros([ L_sso, Nz])\n",
    "SAL = np.ma.zeros([ L_sso, Nz])\n",
    "TRANS = np.ma.zeros([ L_sso, Nz])\n",
    "\n",
    "CT = np.ma.zeros([ L_sso, Nz])\n",
    "SA = np.ma.zeros([ L_sso, Nz])\n",
    "LON = np.ma.zeros([ L_sso,])\n",
    "LAT = np.ma.zeros([ L_sso,])\n",
    "\n",
    "\n",
    "for nn, ctdnum in enumerate(sso_nums):\n",
    "    fn = '../data/ctd_%.03i.p'%ctdnum\n",
    "    d = pickle_load(fn)\n",
    "    TEMP[nn, :] = ip.interp1(d.dep, d.T, zi)\n",
    "    SAL[nn, :] = ip.interp1(d.dep, d.SP, zi)\n",
    "    CT[nn, :] = ip.interp1(d.dep, d.CT, zi)\n",
    "    SA[nn, :] = ip.interp1(d.dep, d.SA, zi)\n",
    "    TRANS[nn, :] = ip.interp1(d.dep, d.trans, zi)\n",
    "\n",
    "    LAT[nn] = d.lat\n",
    "    LON[nn] = d.lon\n",
    "    \n",
    "dx = np.sqrt(navcalc.diffxy_from_lonlat(LON, LAT)[0]**2 + navcalc.diffxy_from_lonlat(LON, LAT)[1]**2)\n",
    "dx[0] = 0\n",
    "x = np.cumsum(dx)"
   ]
  },
  {
   "cell_type": "code",
   "execution_count": 109,
   "id": "380c2503",
   "metadata": {},
   "outputs": [],
   "source": [
    "ca()"
   ]
  },
  {
   "cell_type": "code",
   "execution_count": 110,
   "id": "ba068f93",
   "metadata": {},
   "outputs": [
    {
     "data": {
      "text/plain": [
       "[<matplotlib.lines.Line2D at 0x7fa7e1eb20d0>]"
      ]
     },
     "execution_count": 110,
     "metadata": {},
     "output_type": "execute_result"
    }
   ],
   "source": [
    "fig, ax = plt.subplots(figsize = (8,4))\n",
    "ax.plot(LON, LAT)\n",
    "ax.plot(LON[0], LAT[0], '*')\n"
   ]
  },
  {
   "cell_type": "code",
   "execution_count": 111,
   "id": "a72b51a0",
   "metadata": {},
   "outputs": [],
   "source": [
    "fig, ax = plt.subplots(figsize = (8,4))\n",
    "C = ax.contourf(x*1e-3, zi, TEMP.T, cmap = col.cm('thermal'))\n",
    "ax.plot(x*1e-3, x*0, 'vk', clip_on = False)\n",
    "ax.set_ylim(100, 0)\n",
    "ax.invert_xaxis()\n",
    "cb = plt.colorbar(C)"
   ]
  },
  {
   "cell_type": "code",
   "execution_count": 112,
   "id": "31d1677d",
   "metadata": {},
   "outputs": [],
   "source": [
    "fig, ax = plt.subplots(figsize = (8,4))\n",
    "C = ax.contourf(x*1e-3, zi, SA.T, cmap = col.cm('haline'))\n",
    "ax.set_ylim(100, 0)\n",
    "ax.plot(x*1e-3, x*0, 'vk', clip_on = False)\n",
    "ax.invert_xaxis()\n",
    "\n",
    "cb = plt.colorbar(C)"
   ]
  },
  {
   "cell_type": "code",
   "execution_count": 113,
   "id": "070a26fb",
   "metadata": {},
   "outputs": [],
   "source": [
    "fig, ax = plt.subplots(figsize = (8,4))\n",
    "C = ax.contourf(x*1e-3, zi, TRANS.T, cmap = col.cm('matter'))\n",
    "ax.set_ylim(100, 0)\n",
    "ax.plot(x*1e-3, x*0, 'vk', clip_on = False)\n",
    "ax.invert_xaxis()\n",
    "\n",
    "cb = plt.colorbar(C)"
   ]
  },
  {
   "cell_type": "code",
   "execution_count": 114,
   "id": "dd59a68f",
   "metadata": {},
   "outputs": [
    {
     "data": {
      "text/plain": [
       "[<matplotlib.lines.Line2D at 0x7fa7e16a57c0>,\n",
       " <matplotlib.lines.Line2D at 0x7fa7e16a57f0>,\n",
       " <matplotlib.lines.Line2D at 0x7fa7e16a5910>,\n",
       " <matplotlib.lines.Line2D at 0x7fa7e16a5a30>]"
      ]
     },
     "execution_count": 114,
     "metadata": {},
     "output_type": "execute_result"
    }
   ],
   "source": [
    "fig, ax = plt.subplots(figsize = (4,4))\n",
    "#ax.scatter(SA, CT, marker = '.', color = 'k')\n",
    "ax.plot(SA.T, CT.T,color = 'k')"
   ]
  },
  {
   "cell_type": "markdown",
   "id": "ba87e5a0",
   "metadata": {},
   "source": [
    "### Section HBA"
   ]
  },
  {
   "cell_type": "code",
   "execution_count": 115,
   "id": "ea6b2c76",
   "metadata": {},
   "outputs": [],
   "source": [
    "sso_nums =  [268, 272, 274, 275, 276, 277]\n",
    "L_sso = len(sso_nums)\n",
    "zi = np.arange(0, 251)\n",
    "Nz = len(zi)\n",
    "\n",
    "TEMP = np.ma.zeros([ L_sso, Nz])\n",
    "SAL = np.ma.zeros([ L_sso, Nz])\n",
    "TRANS = np.ma.zeros([ L_sso, Nz])\n",
    "\n",
    "CT = np.ma.zeros([ L_sso, Nz])\n",
    "SA = np.ma.zeros([ L_sso, Nz])\n",
    "LON = np.ma.zeros([ L_sso,])\n",
    "LAT = np.ma.zeros([ L_sso,])\n",
    "\n",
    "\n",
    "for nn, ctdnum in enumerate(sso_nums):\n",
    "    fn = '../data/ctd_%.03i.p'%ctdnum\n",
    "    d = pickle_load(fn)\n",
    "    TEMP[nn, :] = ip.interp1(d.dep, d.T, zi)\n",
    "    SAL[nn, :] = ip.interp1(d.dep, d.SP, zi)\n",
    "    CT[nn, :] = ip.interp1(d.dep, d.CT, zi)\n",
    "    SA[nn, :] = ip.interp1(d.dep, d.SA, zi)\n",
    "    TRANS[nn, :] = ip.interp1(d.dep, d.trans, zi)\n",
    "\n",
    "    LAT[nn] = d.lat\n",
    "    LON[nn] = d.lon\n",
    "    \n",
    "dx = np.sqrt(navcalc.diffxy_from_lonlat(LON, LAT)[0]**2 + navcalc.diffxy_from_lonlat(LON, LAT)[1]**2)\n",
    "dx[0] = 0\n",
    "x = np.cumsum(dx)"
   ]
  },
  {
   "cell_type": "code",
   "execution_count": 116,
   "id": "a3dd2d2f",
   "metadata": {},
   "outputs": [
    {
     "data": {
      "text/plain": [
       "[<matplotlib.lines.Line2D at 0x7fa7e15c64f0>]"
      ]
     },
     "execution_count": 116,
     "metadata": {},
     "output_type": "execute_result"
    }
   ],
   "source": [
    "fig, ax = plt.subplots(figsize = (8,4))\n",
    "ax.plot(LON, LAT)\n",
    "ax.plot(LON[0], LAT[0], '*')"
   ]
  },
  {
   "cell_type": "code",
   "execution_count": 117,
   "id": "e0b0cf26",
   "metadata": {},
   "outputs": [],
   "source": [
    "fig, ax = plt.subplots(figsize = (8,4))\n",
    "C = ax.contourf(x*1e-3, zi, TEMP.T, cmap = col.cm('thermal'))\n",
    "ax.plot(x*1e-3, x*0, 'vk', clip_on = False)\n",
    "ax.set_ylim(100, 0)\n",
    "ax.invert_xaxis()\n",
    "cb = plt.colorbar(C)"
   ]
  },
  {
   "cell_type": "markdown",
   "id": "6440d773",
   "metadata": {},
   "source": [
    "## Section HBC"
   ]
  },
  {
   "cell_type": "code",
   "execution_count": 118,
   "id": "e81bb1d6",
   "metadata": {},
   "outputs": [],
   "source": [
    "sso_nums =  [269, 270, 271, 272, 273]\n",
    "L_sso = len(sso_nums)\n",
    "zi = np.arange(0, 251)\n",
    "Nz = len(zi)\n",
    "\n",
    "TEMP = np.ma.zeros([ L_sso, Nz])\n",
    "SAL = np.ma.zeros([ L_sso, Nz])\n",
    "TRANS = np.ma.zeros([ L_sso, Nz])\n",
    "\n",
    "CT = np.ma.zeros([ L_sso, Nz])\n",
    "SA = np.ma.zeros([ L_sso, Nz])\n",
    "LON = np.ma.zeros([ L_sso,])\n",
    "LAT = np.ma.zeros([ L_sso,])\n",
    "\n",
    "\n",
    "for nn, ctdnum in enumerate(sso_nums):\n",
    "    fn = '../data/ctd_%.03i.p'%ctdnum\n",
    "    d = pickle_load(fn)\n",
    "    TEMP[nn, :] = ip.interp1(d.dep, d.T, zi)\n",
    "    SAL[nn, :] = ip.interp1(d.dep, d.SP, zi)\n",
    "    CT[nn, :] = ip.interp1(d.dep, d.CT, zi)\n",
    "    SA[nn, :] = ip.interp1(d.dep, d.SA, zi)\n",
    "    TRANS[nn, :] = ip.interp1(d.dep, d.trans, zi)\n",
    "\n",
    "    LAT[nn] = d.lat\n",
    "    LON[nn] = d.lon\n",
    "    \n",
    "dx = np.sqrt(navcalc.diffxy_from_lonlat(LON, LAT)[0]**2 + navcalc.diffxy_from_lonlat(LON, LAT)[1]**2)\n",
    "dx[0] = 0\n",
    "x = np.cumsum(dx)"
   ]
  },
  {
   "cell_type": "code",
   "execution_count": 119,
   "id": "69144ab7",
   "metadata": {},
   "outputs": [
    {
     "data": {
      "text/plain": [
       "[<matplotlib.lines.Line2D at 0x7fa7e1494e50>]"
      ]
     },
     "execution_count": 119,
     "metadata": {},
     "output_type": "execute_result"
    }
   ],
   "source": [
    "fig, ax = plt.subplots(figsize = (8,4))\n",
    "ax.plot(LON, LAT)\n",
    "ax.plot(LON[0], LAT[0], '*')"
   ]
  },
  {
   "cell_type": "code",
   "execution_count": 121,
   "id": "ad4c3d6c",
   "metadata": {},
   "outputs": [],
   "source": [
    "fig, ax = plt.subplots(figsize = (8,4))\n",
    "C = ax.contourf(x*1e-3, zi, TEMP.T, cmap = col.cm('thermal'))\n",
    "ax.plot(x*1e-3, x*0, 'vk', clip_on = False)\n",
    "ax.set_ylim(100, 0)\n",
    "#ax.invert_xaxis()\n",
    "cb = plt.colorbar(C)"
   ]
  },
  {
   "cell_type": "markdown",
   "id": "e19aa2d3",
   "metadata": {},
   "source": [
    "## Section M1T"
   ]
  },
  {
   "cell_type": "code",
   "execution_count": 125,
   "id": "4234f8ac",
   "metadata": {},
   "outputs": [],
   "source": [
    "sso_nums =  list(np.arange(257, 268))\n",
    "L_sso = len(sso_nums)\n",
    "zi = np.arange(0, 251)\n",
    "Nz = len(zi)\n",
    "\n",
    "TEMP = np.ma.zeros([ L_sso, Nz])\n",
    "SAL = np.ma.zeros([ L_sso, Nz])\n",
    "TRANS = np.ma.zeros([ L_sso, Nz])\n",
    "\n",
    "CT = np.ma.zeros([ L_sso, Nz])\n",
    "SA = np.ma.zeros([ L_sso, Nz])\n",
    "LON = np.ma.zeros([ L_sso,])\n",
    "LAT = np.ma.zeros([ L_sso,])\n",
    "\n",
    "\n",
    "for nn, ctdnum in enumerate(sso_nums):\n",
    "    fn = '../data/ctd_%.03i.p'%ctdnum\n",
    "    d = pickle_load(fn)\n",
    "    TEMP[nn, :] = ip.interp1(d.dep, d.T, zi)\n",
    "    SAL[nn, :] = ip.interp1(d.dep, d.SP, zi)\n",
    "    CT[nn, :] = ip.interp1(d.dep, d.CT, zi)\n",
    "    SA[nn, :] = ip.interp1(d.dep, d.SA, zi)\n",
    "    TRANS[nn, :] = ip.interp1(d.dep, d.trans, zi)\n",
    "\n",
    "    LAT[nn] = d.lat\n",
    "    LON[nn] = d.lon\n",
    "    \n",
    "dx = np.sqrt(navcalc.diffxy_from_lonlat(LON, LAT)[0]**2 + navcalc.diffxy_from_lonlat(LON, LAT)[1]**2)\n",
    "dx[0] = 0\n",
    "x = np.cumsum(dx)"
   ]
  },
  {
   "cell_type": "code",
   "execution_count": 126,
   "id": "a3b46092",
   "metadata": {},
   "outputs": [
    {
     "data": {
      "text/plain": [
       "[<matplotlib.lines.Line2D at 0x7fa7e0e84fd0>]"
      ]
     },
     "execution_count": 126,
     "metadata": {},
     "output_type": "execute_result"
    }
   ],
   "source": [
    "fig, ax = plt.subplots(figsize = (8,4))\n",
    "ax.plot(LON, LAT)\n",
    "ax.plot(LON[0], LAT[0], '*')"
   ]
  },
  {
   "cell_type": "code",
   "execution_count": 128,
   "id": "c422e0ff",
   "metadata": {},
   "outputs": [],
   "source": [
    "fig, ax = plt.subplots(figsize = (8,4))\n",
    "C = ax.contourf(x*1e-3, zi, TEMP.T, cmap = col.cm('thermal'))\n",
    "ax.plot(x*1e-3, x*0, 'vk', clip_on = False)\n",
    "ax.set_ylim(200, 0)\n",
    "#ax.invert_xaxis()\n",
    "cb = plt.colorbar(C)"
   ]
  },
  {
   "cell_type": "markdown",
   "id": "965f72ed",
   "metadata": {},
   "source": [
    "### Section WBHL"
   ]
  },
  {
   "cell_type": "code",
   "execution_count": 129,
   "id": "48024306",
   "metadata": {},
   "outputs": [],
   "source": [
    "sso_nums =  list(np.arange(293, 298))\n",
    "L_sso = len(sso_nums)\n",
    "zi = np.arange(0, 251)\n",
    "Nz = len(zi)\n",
    "\n",
    "TEMP = np.ma.zeros([ L_sso, Nz])\n",
    "SAL = np.ma.zeros([ L_sso, Nz])\n",
    "TRANS = np.ma.zeros([ L_sso, Nz])\n",
    "\n",
    "CT = np.ma.zeros([ L_sso, Nz])\n",
    "SA = np.ma.zeros([ L_sso, Nz])\n",
    "LON = np.ma.zeros([ L_sso,])\n",
    "LAT = np.ma.zeros([ L_sso,])\n",
    "\n",
    "\n",
    "for nn, ctdnum in enumerate(sso_nums):\n",
    "    fn = '../data/ctd_%.03i.p'%ctdnum\n",
    "    d = pickle_load(fn)\n",
    "    TEMP[nn, :] = ip.interp1(d.dep, d.T, zi)\n",
    "    SAL[nn, :] = ip.interp1(d.dep, d.SP, zi)\n",
    "    CT[nn, :] = ip.interp1(d.dep, d.CT, zi)\n",
    "    SA[nn, :] = ip.interp1(d.dep, d.SA, zi)\n",
    "    TRANS[nn, :] = ip.interp1(d.dep, d.trans, zi)\n",
    "\n",
    "    LAT[nn] = d.lat\n",
    "    LON[nn] = d.lon\n",
    "    \n",
    "dx = np.sqrt(navcalc.diffxy_from_lonlat(LON, LAT)[0]**2 + navcalc.diffxy_from_lonlat(LON, LAT)[1]**2)\n",
    "dx[0] = 0\n",
    "x = np.cumsum(dx)"
   ]
  },
  {
   "cell_type": "code",
   "execution_count": 130,
   "id": "e0c48122",
   "metadata": {},
   "outputs": [
    {
     "data": {
      "text/plain": [
       "[<matplotlib.lines.Line2D at 0x7fa814c65c10>]"
      ]
     },
     "execution_count": 130,
     "metadata": {},
     "output_type": "execute_result"
    }
   ],
   "source": [
    "fig, ax = plt.subplots(figsize = (8,4))\n",
    "ax.plot(LON, LAT)\n",
    "ax.plot(LON[0], LAT[0], '*')"
   ]
  },
  {
   "cell_type": "code",
   "execution_count": 137,
   "id": "f91e7a99",
   "metadata": {},
   "outputs": [
    {
     "name": "stderr",
     "output_type": "stream",
     "text": [
      "/tmp/ipykernel_170389/2760644859.py:1: RuntimeWarning: More than 20 figures have been opened. Figures created through the pyplot interface (`matplotlib.pyplot.figure`) are retained until explicitly closed and may consume too much memory. (To control this warning, see the rcParam `figure.max_open_warning`).\n",
      "  fig, ax = plt.subplots(figsize = (8,4))\n"
     ]
    }
   ],
   "source": [
    "fig, ax = plt.subplots(figsize = (8,4))\n",
    "C = ax.contourf(x*1e-3, zi, TEMP.T, cmap = col.cm('thermal'))\n",
    "ax.plot(x*1e-3, x*0, 'vk', clip_on = False)\n",
    "ax.set_ylim(200, 0)\n",
    "#ax.invert_xaxis()\n",
    "cb = plt.colorbar(C)"
   ]
  },
  {
   "cell_type": "code",
   "execution_count": 138,
   "id": "f2a6215f",
   "metadata": {},
   "outputs": [],
   "source": [
    "fig, ax = plt.subplots(figsize = (8,4))\n",
    "C = ax.contourf(x*1e-3, zi, SA.T, cmap = col.cm('haline'))\n",
    "ax.set_ylim(200, 0)\n",
    "ax.plot(x*1e-3, x*0, 'vk', clip_on = False)\n",
    "#ax.invert_xaxis()\n",
    "\n",
    "cb = plt.colorbar(C)"
   ]
  },
  {
   "cell_type": "code",
   "execution_count": 136,
   "id": "1057c8c0",
   "metadata": {},
   "outputs": [],
   "source": [
    "fig, ax = plt.subplots(figsize = (8,4))\n",
    "C = ax.contourf(x*1e-3, zi, TRANS.T, cmap = col.cm('matter'))\n",
    "ax.set_ylim(100, 0)\n",
    "ax.plot(x*1e-3, x*0, 'vk', clip_on = False)\n",
    "#ax.invert_xaxis()\n",
    "#\n",
    "cb = plt.colorbar(C)"
   ]
  },
  {
   "cell_type": "code",
   "execution_count": 135,
   "id": "2813e2d3",
   "metadata": {},
   "outputs": [
    {
     "data": {
      "text/plain": [
       "[<matplotlib.lines.Line2D at 0x7fa7e061f220>,\n",
       " <matplotlib.lines.Line2D at 0x7fa7e061f250>,\n",
       " <matplotlib.lines.Line2D at 0x7fa7e0613250>,\n",
       " <matplotlib.lines.Line2D at 0x7fa7e0613280>,\n",
       " <matplotlib.lines.Line2D at 0x7fa7e061f490>]"
      ]
     },
     "execution_count": 135,
     "metadata": {},
     "output_type": "execute_result"
    }
   ],
   "source": [
    "fig, ax = plt.subplots(figsize = (4,4))\n",
    "#ax.scatter(SA, CT, marker = '.', color = 'k')\n",
    "ax.plot(SA.T, CT.T,color = 'k')"
   ]
  },
  {
   "cell_type": "markdown",
   "id": "862a7ef5",
   "metadata": {},
   "source": [
    "### KVS"
   ]
  },
  {
   "cell_type": "code",
   "execution_count": 139,
   "id": "8fcc4239",
   "metadata": {},
   "outputs": [],
   "source": [
    "sso_nums =  list(np.arange(248, 255))\n",
    "L_sso = len(sso_nums)\n",
    "zi = np.arange(0, 251)\n",
    "Nz = len(zi)\n",
    "\n",
    "TEMP = np.ma.zeros([ L_sso, Nz])\n",
    "SAL = np.ma.zeros([ L_sso, Nz])\n",
    "TRANS = np.ma.zeros([ L_sso, Nz])\n",
    "\n",
    "CT = np.ma.zeros([ L_sso, Nz])\n",
    "SA = np.ma.zeros([ L_sso, Nz])\n",
    "LON = np.ma.zeros([ L_sso,])\n",
    "LAT = np.ma.zeros([ L_sso,])\n",
    "\n",
    "\n",
    "for nn, ctdnum in enumerate(sso_nums):\n",
    "    fn = '../data/ctd_%.03i.p'%ctdnum\n",
    "    d = pickle_load(fn)\n",
    "    TEMP[nn, :] = ip.interp1(d.dep, d.T, zi)\n",
    "    SAL[nn, :] = ip.interp1(d.dep, d.SP, zi)\n",
    "    CT[nn, :] = ip.interp1(d.dep, d.CT, zi)\n",
    "    SA[nn, :] = ip.interp1(d.dep, d.SA, zi)\n",
    "    TRANS[nn, :] = ip.interp1(d.dep, d.trans, zi)\n",
    "\n",
    "    LAT[nn] = d.lat\n",
    "    LON[nn] = d.lon\n",
    "    \n",
    "dx = np.sqrt(navcalc.diffxy_from_lonlat(LON, LAT)[0]**2 + navcalc.diffxy_from_lonlat(LON, LAT)[1]**2)\n",
    "dx[0] = 0\n",
    "x = np.cumsum(dx)"
   ]
  },
  {
   "cell_type": "code",
   "execution_count": 142,
   "id": "69c4c636",
   "metadata": {},
   "outputs": [],
   "source": [
    "fig, ax = plt.subplots(figsize = (8,4))\n",
    "C = ax.contourf(x*1e-3, zi, TEMP.T, cmap = col.cm('thermal'))\n",
    "ax.plot(x*1e-3, x*0, 'vk', clip_on = False)\n",
    "ax.set_ylim(200, 0)\n",
    "ax.invert_xaxis()\n",
    "cb = plt.colorbar(C)"
   ]
  },
  {
   "cell_type": "markdown",
   "id": "110991df",
   "metadata": {},
   "source": [
    "### AT"
   ]
  },
  {
   "cell_type": "code",
   "execution_count": 161,
   "id": "3ece532a",
   "metadata": {},
   "outputs": [],
   "source": [
    "sso_nums =  [223] + list(np.arange(225, 236))\n",
    "L_sso = len(sso_nums)\n",
    "zi = np.arange(0, 551)\n",
    "Nz = len(zi)\n",
    "\n",
    "TEMP = np.ma.zeros([ L_sso, Nz])\n",
    "SAL = np.ma.zeros([ L_sso, Nz])\n",
    "TRANS = np.ma.zeros([ L_sso, Nz])\n",
    "\n",
    "CT = np.ma.zeros([ L_sso, Nz])\n",
    "SA = np.ma.zeros([ L_sso, Nz])\n",
    "LON = np.ma.zeros([ L_sso,])\n",
    "LAT = np.ma.zeros([ L_sso,])\n",
    "DEP = np.ma.zeros([ L_sso,])\n",
    "\n",
    "for nn, ctdnum in enumerate(sso_nums):\n",
    "    fn = '../data/ctd_%.03i.p'%ctdnum\n",
    "    d = pickle_load(fn)\n",
    "    TEMP[nn, :] = ip.interp1(d.dep, d.T, zi)\n",
    "    SAL[nn, :] = ip.interp1(d.dep, d.SP, zi)\n",
    "    CT[nn, :] = ip.interp1(d.dep, d.CT, zi)\n",
    "    SA[nn, :] = ip.interp1(d.dep, d.SA, zi)\n",
    "    TRANS[nn, :] = ip.interp1(d.dep, d.trans, zi)\n",
    "\n",
    "    LAT[nn] = d.lat\n",
    "    LON[nn] = d.lon\n",
    "    DEP[nn] = d.dep.max()\n",
    "\n",
    "dx = np.sqrt(navcalc.diffxy_from_lonlat(LON, LAT)[0]**2 + navcalc.diffxy_from_lonlat(LON, LAT)[1]**2)\n",
    "dx[0] = 0\n",
    "x = np.cumsum(dx)"
   ]
  },
  {
   "cell_type": "code",
   "execution_count": 164,
   "id": "f4ccccb2",
   "metadata": {},
   "outputs": [],
   "source": [
    "fig, ax = plt.subplots(figsize = (8,4))\n",
    "C = ax.contourf(x*1e-3, zi, TEMP.T, cmap = col.cm('thermal'))\n",
    "ax.plot(x*1e-3, x*0, 'vk', clip_on = False)\n",
    "ax.plot(x*1e-3, DEP, '-k', )\n",
    "ax.grid()\n",
    "\n",
    "ax.set_ylim(700, 0)\n",
    "ax.invert_xaxis()\n",
    "cb = plt.colorbar(C)"
   ]
  },
  {
   "cell_type": "markdown",
   "id": "9f929d99",
   "metadata": {},
   "source": [
    "### KVN "
   ]
  },
  {
   "cell_type": "code",
   "execution_count": 153,
   "id": "67b4ca11",
   "metadata": {},
   "outputs": [],
   "source": [
    "sso_nums =  list(np.arange(238, 241)) + list(np.arange(242, 247))\n",
    "L_sso = len(sso_nums)\n",
    "zi = np.arange(0, 301)\n",
    "Nz = len(zi)\n",
    "\n",
    "TEMP = np.ma.zeros([ L_sso, Nz])\n",
    "SAL = np.ma.zeros([ L_sso, Nz])\n",
    "TRANS = np.ma.zeros([ L_sso, Nz])\n",
    "\n",
    "CT = np.ma.zeros([ L_sso, Nz])\n",
    "SA = np.ma.zeros([ L_sso, Nz])\n",
    "LON = np.ma.zeros([ L_sso,])\n",
    "LAT = np.ma.zeros([ L_sso,])\n",
    "\n",
    "\n",
    "for nn, ctdnum in enumerate(sso_nums):\n",
    "    fn = '../data/ctd_%.03i.p'%ctdnum\n",
    "    d = pickle_load(fn)\n",
    "    TEMP[nn, :] = ip.interp1(d.dep, d.T, zi)\n",
    "    SAL[nn, :] = ip.interp1(d.dep, d.SP, zi)\n",
    "    CT[nn, :] = ip.interp1(d.dep, d.CT, zi)\n",
    "    SA[nn, :] = ip.interp1(d.dep, d.SA, zi)\n",
    "    TRANS[nn, :] = ip.interp1(d.dep, d.trans, zi)\n",
    "\n",
    "    LAT[nn] = d.lat\n",
    "    LON[nn] = d.lon\n",
    "    \n",
    "dx = np.sqrt(navcalc.diffxy_from_lonlat(LON, LAT)[0]**2 + navcalc.diffxy_from_lonlat(LON, LAT)[1]**2)\n",
    "dx[0] = 0\n",
    "x = np.cumsum(dx)"
   ]
  },
  {
   "cell_type": "code",
   "execution_count": 154,
   "id": "1c60bef6",
   "metadata": {},
   "outputs": [],
   "source": [
    "fig, ax = plt.subplots(figsize = (8,4))\n",
    "C = ax.contourf(x*1e-3, zi, TEMP.T, cmap = col.cm('thermal'))\n",
    "ax.plot(x*1e-3, x*0, 'vk', clip_on = False)\n",
    "ax.set_ylim(300, 0)\n",
    "ax.invert_xaxis()\n",
    "cb = plt.colorbar(C)"
   ]
  },
  {
   "cell_type": "code",
   "execution_count": 155,
   "id": "ee1a15c7",
   "metadata": {},
   "outputs": [],
   "source": [
    "fig, ax = plt.subplots(figsize = (8,4))\n",
    "C = ax.contourf(x*1e-3, zi, SA.T, cmap = col.cm('haline'))\n",
    "ax.set_ylim(300, 0)\n",
    "ax.plot(x*1e-3, x*0, 'vk', clip_on = False)\n",
    "ax.invert_xaxis()\n",
    "\n",
    "cb = plt.colorbar(C)"
   ]
  },
  {
   "cell_type": "code",
   "execution_count": 156,
   "id": "bcb23065",
   "metadata": {},
   "outputs": [
    {
     "data": {
      "text/plain": [
       "[<matplotlib.lines.Line2D at 0x7fa7e2ed9310>,\n",
       " <matplotlib.lines.Line2D at 0x7fa7e2ed9340>,\n",
       " <matplotlib.lines.Line2D at 0x7fa7e2ed9460>,\n",
       " <matplotlib.lines.Line2D at 0x7fa7e2ed9580>,\n",
       " <matplotlib.lines.Line2D at 0x7fa7e2ed96a0>,\n",
       " <matplotlib.lines.Line2D at 0x7fa7e2ed97c0>,\n",
       " <matplotlib.lines.Line2D at 0x7fa7e2ed98e0>,\n",
       " <matplotlib.lines.Line2D at 0x7fa7e2ed9a00>]"
      ]
     },
     "execution_count": 156,
     "metadata": {},
     "output_type": "execute_result"
    }
   ],
   "source": [
    "fig, ax = plt.subplots(figsize = (4,4))\n",
    "#ax.scatter(SA, CT, marker = '.', color = 'k')\n",
    "ax.plot(SA.T, CT.T,color = 'k')"
   ]
  },
  {
   "cell_type": "code",
   "execution_count": 157,
   "id": "accd2c13",
   "metadata": {},
   "outputs": [],
   "source": [
    "ca()"
   ]
  },
  {
   "cell_type": "code",
   "execution_count": null,
   "id": "dbbd1d76",
   "metadata": {},
   "outputs": [],
   "source": []
  }
 ],
 "metadata": {
  "kernelspec": {
   "display_name": "Python [conda env:oyv] *",
   "language": "python",
   "name": "conda-env-oyv-py"
  },
  "language_info": {
   "codemirror_mode": {
    "name": "ipython",
    "version": 3
   },
   "file_extension": ".py",
   "mimetype": "text/x-python",
   "name": "python",
   "nbconvert_exporter": "python",
   "pygments_lexer": "ipython3",
   "version": "3.8.2"
  }
 },
 "nbformat": 4,
 "nbformat_minor": 5
}
