{
 "cells": [
  {
   "cell_type": "markdown",
   "id": "7b67826b",
   "metadata": {},
   "source": [
    "### Extracting the useful CTD data.. "
   ]
  },
  {
   "cell_type": "code",
   "execution_count": 73,
   "id": "08a3de3d",
   "metadata": {},
   "outputs": [],
   "source": [
    "from oyv.imports import *\n",
    "import gsw\n",
    "import glob\n",
    "import pandas\n",
    "from oyv.data import read_cnv\n",
    "from oyv.map import quickmap\n",
    "import xarray as xr"
   ]
  },
  {
   "cell_type": "code",
   "execution_count": 41,
   "id": "da7a64b7",
   "metadata": {},
   "outputs": [],
   "source": [
    "ddir = '/media/oyvindl/ratatosk/data/tokt/S2021713_PKRONPRINSHAAKON_9566/CTD_DATA_AeN/Bin1db/'"
   ]
  },
  {
   "cell_type": "code",
   "execution_count": 42,
   "id": "8a10fcec",
   "metadata": {},
   "outputs": [],
   "source": [
    "flist = glob.glob(ddir + '*.cnv')"
   ]
  },
  {
   "cell_type": "code",
   "execution_count": 165,
   "id": "d50bde86",
   "metadata": {},
   "outputs": [
    {
     "name": "stdout",
     "output_type": "stream",
     "text": [
      "Reading data..\n",
      "Done.\n",
      "Time elapsed: 00:00:00\n",
      "## Reading julian days from the field t_jd with the yearbase 01 Jan 2021 00:00. ##\n",
      "Reading data..\n",
      "Done.\n",
      "Time elapsed: 00:00:00\n",
      "## Reading julian days from the field t_jd with the yearbase 01 Jan 2021 00:00. ##\n",
      "Reading data..\n",
      "Done.\n",
      "Time elapsed: 00:00:00\n",
      "## Reading julian days from the field t_jd with the yearbase 01 Jan 2021 00:00. ##\n",
      "Reading data..\n",
      "Done.\n",
      "Time elapsed: 00:00:00\n",
      "## Reading julian days from the field t_jd with the yearbase 01 Jan 2021 00:00. ##\n",
      "Reading data..\n",
      "Done.\n",
      "Time elapsed: 00:00:00\n",
      "## Reading julian days from the field t_jd with the yearbase 01 Jan 2021 00:00. ##\n",
      "Reading data..\n",
      "Done.\n",
      "Time elapsed: 00:00:00\n",
      "## Reading julian days from the field t_jd with the yearbase 01 Jan 2021 00:00. ##\n",
      "Reading data..\n",
      "Done.\n",
      "Time elapsed: 00:00:00\n",
      "## Reading julian days from the field t_jd with the yearbase 01 Jan 2021 00:00. ##\n",
      "Reading data..\n",
      "Done.\n",
      "Time elapsed: 00:00:00\n",
      "## Reading julian days from the field t_jd with the yearbase 01 Jan 2021 00:00. ##\n",
      "Reading data..\n",
      "Done.\n",
      "Time elapsed: 00:00:00\n",
      "## Reading julian days from the field t_jd with the yearbase 01 Jan 2021 00:00. ##\n",
      "Reading data..\n",
      "Done.\n",
      "Time elapsed: 00:00:00\n",
      "## Reading julian days from the field t_jd with the yearbase 01 Jan 2021 00:00. ##\n",
      "Reading data..\n",
      "Done.\n",
      "Time elapsed: 00:00:00\n",
      "## Reading julian days from the field t_jd with the yearbase 01 Jan 2021 00:00. ##\n",
      "Reading data..\n",
      "Done.\n",
      "Time elapsed: 00:00:00\n",
      "## Reading julian days from the field t_jd with the yearbase 01 Jan 2021 00:00. ##\n",
      "Reading data..\n",
      "Done.\n",
      "Time elapsed: 00:00:00\n",
      "## Reading julian days from the field t_jd with the yearbase 01 Jan 2021 00:00. ##\n",
      "Reading data..\n",
      "Done.\n",
      "Time elapsed: 00:00:00\n",
      "## Reading julian days from the field t_jd with the yearbase 01 Jan 2021 00:00. ##\n",
      "Reading data..\n",
      "Done.\n",
      "Time elapsed: 00:00:00\n",
      "## Reading julian days from the field t_jd with the yearbase 01 Jan 2021 00:00. ##\n",
      "Reading data..\n",
      "Done.\n",
      "Time elapsed: 00:00:00\n",
      "## Reading julian days from the field t_jd with the yearbase 01 Jan 2021 00:00. ##\n",
      "Reading data..\n",
      "Done.\n",
      "Time elapsed: 00:00:00\n",
      "## Reading julian days from the field t_jd with the yearbase 01 Jan 2021 00:00. ##\n",
      "Reading data..\n",
      "Done.\n",
      "Time elapsed: 00:00:00\n",
      "## Reading julian days from the field t_jd with the yearbase 01 Jan 2021 00:00. ##\n",
      "Reading data..\n",
      "Done.\n",
      "Time elapsed: 00:00:00\n",
      "## Reading julian days from the field t_jd with the yearbase 01 Jan 2021 00:00. ##\n",
      "Reading data..\n",
      "Done.\n",
      "Time elapsed: 00:00:00\n",
      "## Reading julian days from the field t_jd with the yearbase 01 Jan 2021 00:00. ##\n",
      "Reading data..\n",
      "Done.\n",
      "Time elapsed: 00:00:00\n",
      "## Reading julian days from the field t_jd with the yearbase 01 Jan 2021 00:00. ##\n",
      "Reading data..\n",
      "Done.\n",
      "Time elapsed: 00:00:00\n",
      "## Reading julian days from the field t_jd with the yearbase 01 Jan 2021 00:00. ##\n",
      "Reading data..\n",
      "Done.\n",
      "Time elapsed: 00:00:00\n",
      "## Reading julian days from the field t_jd with the yearbase 01 Jan 2021 00:00. ##\n",
      "Reading data..\n",
      "Done.\n",
      "Time elapsed: 00:00:00\n",
      "## Reading julian days from the field t_jd with the yearbase 01 Jan 2021 00:00. ##\n",
      "Reading data..\n",
      "Done.\n",
      "Time elapsed: 00:00:00\n",
      "## Reading julian days from the field t_jd with the yearbase 01 Jan 2021 00:00. ##\n",
      "Reading data..\n",
      "Done.\n",
      "Time elapsed: 00:00:00\n",
      "## Reading julian days from the field t_jd with the yearbase 01 Jan 2021 00:00. ##\n",
      "Reading data..\n",
      "Done.\n",
      "Time elapsed: 00:00:00\n",
      "## Reading julian days from the field t_jd with the yearbase 01 Jan 2021 00:00. ##\n",
      "Reading data..\n",
      "Done.\n",
      "Time elapsed: 00:00:00\n",
      "## Reading julian days from the field t_jd with the yearbase 01 Jan 2021 00:00. ##\n",
      "Reading data..\n",
      "Done.\n",
      "Time elapsed: 00:00:00\n",
      "## Reading julian days from the field t_jd with the yearbase 01 Jan 2021 00:00. ##\n",
      "Reading data..\n",
      "Done.\n",
      "Time elapsed: 00:00:00\n",
      "## Reading julian days from the field t_jd with the yearbase 01 Jan 2021 00:00. ##\n",
      "Reading data..\n",
      "Done.\n",
      "Time elapsed: 00:00:00\n",
      "## Reading julian days from the field t_jd with the yearbase 01 Jan 2021 00:00. ##\n"
     ]
    }
   ],
   "source": [
    "\n",
    "fig, ax = plt.subplots()\n",
    "\n",
    "\n",
    "\n",
    "ds = []\n",
    "lats, lons = [], []\n",
    "\n",
    "for fn in flist:\n",
    "    d = read_cnv.cnvobj(fn)\n",
    "    d.read_data()\n",
    "    d.get_time(yearbase = 2021, auto_accept=True)\n",
    "    d.get_depth()\n",
    "    d.get_teos10()\n",
    "    lats += [d.lat]\n",
    "    lons += [d.lon]\n",
    "\n",
    "    ds += [d]\n",
    "    ax.plot(d.dep, d.T)"
   ]
  },
  {
   "cell_type": "code",
   "execution_count": 208,
   "id": "826e9ee4",
   "metadata": {},
   "outputs": [],
   "source": [
    "d_near = []\n",
    "depmax = 0\n",
    "ctdnum = []\n",
    "m = quickmap.map_stere(7, 7, lat0 = 78)\n",
    "for lat, lon, d  in zip(lats, lons, ds):\n",
    "    m.plot(lon, lat, 'or', latlon = True)\n",
    "    if lat<80 and lon<30 and lat>78:\n",
    "        m.plot(lon, lat, 'oy', latlon = True)\n",
    "        d_near += [d]\n",
    "        depmax = np.max((depmax, d.dep.max()))\n"
   ]
  },
  {
   "cell_type": "code",
   "execution_count": 289,
   "id": "11b0230d",
   "metadata": {},
   "outputs": [],
   "source": [
    "# Create nc files with relevant only\n",
    "# (interpolating)\n",
    "\n",
    "zi = np.arange(0, np.ceil(depmax/10)*10+1)\n",
    "\n",
    "Nprofs = len(d_near)\n",
    "Ndep = len(zi)\n",
    "\n",
    "D = xr.Dataset(coords = {'depth':zi, 'nprofile':np.arange(Nprofs)})\n",
    "\n",
    "for key3d in ['SP', 'SA', 'CT', 'T', 'trans']:\n",
    "    var_ = np.ma.zeros((Nprofs, Ndep))\n",
    "    var_.mask = True\n",
    "    \n",
    "    for nn, d in enumerate(d_near):\n",
    "        var_[nn, :] = ip.interp1(d.dep, getattr(d, key3d), zi)\n",
    "        \n",
    "    D[key3d] = (('nprofile', 'depth'), var_)\n",
    "    \n",
    "    \n",
    "\n",
    "\n",
    "for key1d in ['lat', 'lon', 't']:\n",
    "    var_ = np.ma.zeros((Nprofs))*np.nan\n",
    "#    var_.mask = True\n",
    "\n",
    "\n",
    "    for nn, d in enumerate(d_near):\n",
    "            \n",
    "        if key1d== 't':\n",
    "            var_[nn] = getattr(d, key1d).mean()\n",
    "        else:\n",
    "            var_[nn] = getattr(d, key1d)\n",
    "        \n",
    "    D[key1d] = (('nprofile',), var_)\n",
    "    \n",
    "    \n",
    "D = D.sortby('lon')"
   ]
  },
  {
   "cell_type": "code",
   "execution_count": 290,
   "id": "d59adfd1",
   "metadata": {},
   "outputs": [],
   "source": [
    "ca()"
   ]
  },
  {
   "cell_type": "code",
   "execution_count": 279,
   "id": "8d034839",
   "metadata": {},
   "outputs": [
    {
     "data": {
      "text/plain": [
       "<matplotlib.contour.QuadContourSet at 0x7ff74a00b3a0>"
      ]
     },
     "execution_count": 279,
     "metadata": {},
     "output_type": "execute_result"
    }
   ],
   "source": [
    "\n",
    "fig, ax = plt.subplots()\n",
    "ax.contourf(D.trans.T.data, vmax = 100, vmin = 90, cmap = col.cm('turbid_r'))\n"
   ]
  },
  {
   "cell_type": "code",
   "execution_count": 307,
   "id": "2f44952c",
   "metadata": {},
   "outputs": [
    {
     "data": {
      "text/plain": [
       "<matplotlib.contour.QuadContourSet at 0x7ff7476a1640>"
      ]
     },
     "execution_count": 307,
     "metadata": {},
     "output_type": "execute_result"
    }
   ],
   "source": [
    "sortind = np.argsort(D.lon)\n",
    "fig, ax = plt.subplots(3, 1, sharex = True, sharey = True)\n",
    "ax[0].contourf(D.T.T.data, vmax = 1, vmin = -2, cmap = col.cm('thermal'))\n",
    "ax[1].contourf(D.SP.T.data, vmax = 35, vmin = 33, cmap = col.cm('haline'))\n",
    "ax[2].contourf(D.trans.T.data, vmax = 100, vmin = 90, cmap = col.cm('turbid_r'))"
   ]
  },
  {
   "cell_type": "code",
   "execution_count": 292,
   "id": "80a3d681",
   "metadata": {},
   "outputs": [
    {
     "data": {
      "text/plain": [
       "(33.75, 35.06)"
      ]
     },
     "execution_count": 292,
     "metadata": {},
     "output_type": "execute_result"
    }
   ],
   "source": [
    "split = 2\n",
    "sl1 = slice(0, split)\n",
    "sl2 = slice(split, None)\n",
    "\n",
    "\n",
    "fig, ax = plt.subplots()\n",
    "ax.scatter(D.SA[sl2], D.CT[sl2], s = 4, )\n",
    "ax.scatter(D.SA[sl1], D.CT[sl1], s = 4, )\n",
    "ax.set_xlim(33.75, 35.06)"
   ]
  },
  {
   "cell_type": "code",
   "execution_count": 300,
   "id": "e3fce64a",
   "metadata": {},
   "outputs": [],
   "source": [
    "\n",
    "fig, ax = plt.subplots(1, 3, sharey = True)\n",
    "\n",
    "for nn in np.arange(D.CT.data[sl2, :].shape[0]):\n",
    "    ax[0].plot(D.CT.data[sl2, :][nn], D.depth.data, color = col.col('b'), alpha = 0.4)\n",
    "    ax[1].plot(D.SA.data[sl2, :][nn], D.depth.data, color = col.col('b'), alpha = 0.4)\n",
    "    ax[2].plot(D.trans.data[sl2, :][nn], D.depth.data, color = col.col('b'), alpha = 0.4)\n",
    "\n",
    "\n",
    "\n",
    "for nn in np.arange(D.CT.data[sl1, :].shape[0]):\n",
    "    ax[0].plot(D.CT.data[sl1, :][nn], D.depth.data, color = col.col('o'), alpha = 0.4)\n",
    "    ax[1].plot(D.SA.data[sl1, :][nn], D.depth.data, color = col.col('o'), alpha = 0.4)\n",
    "    \n",
    "    ax[2].plot(D.trans.data[sl1, :][nn], D.depth.data, color = col.col('o'), alpha = 0.4)\n",
    "\n",
    "    \n",
    "ax[0].plot(D.CT.data[0, :], D.depth.data, color = col.col('k'), alpha = 0.4)\n",
    "ax[1].plot(D.SA.data[0, :], D.depth.data, color = col.col('k'), alpha = 0.4)\n",
    "ax[2].plot(D.trans.data[0, :], D.depth.data, color = col.col('k'), alpha = 0.4)\n",
    "\n",
    "ax[1].set_xlim(33.75, 35.06)\n",
    "ax[2].set_xlim(88, 101)\n",
    "\n",
    "ax[0].invert_yaxis()"
   ]
  },
  {
   "cell_type": "code",
   "execution_count": 296,
   "id": "3c99ab1b",
   "metadata": {},
   "outputs": [],
   "source": [
    "coord = pickle_load('/home/oyvindl/work/arven_etter_nansen/data/aen_coords_v2.p')\n",
    "m1lat, m1lon = coord['m1'].lat, coord['m1'].lon"
   ]
  },
  {
   "cell_type": "code",
   "execution_count": 305,
   "id": "d326bd31",
   "metadata": {},
   "outputs": [],
   "source": [
    "m = quickmap.map_stere(2, 2, lon0 = D.lon.mean(), lat0 = D.lat.mean())\n",
    "\n",
    "quickmap.svbathy(m, maxdep = 250, mindep = 0, levels = np.arange(0, 251, 25))"
   ]
  },
  {
   "cell_type": "code",
   "execution_count": 306,
   "id": "ab3c04ec",
   "metadata": {},
   "outputs": [
    {
     "data": {
      "text/plain": [
       "[<matplotlib.lines.Line2D at 0x7ff7476d5730>]"
      ]
     },
     "execution_count": 306,
     "metadata": {},
     "output_type": "execute_result"
    }
   ],
   "source": [
    "m.plot(D.lon.data[sl2], D.lat.data[sl2], 'o', color = col.col('b'), latlon = True)\n",
    "m.plot(D.lon.data[sl1], D.lat.data[sl1], 'o', color = col.col('o'), latlon = True)\n",
    "m.plot(m1lon, m1lat, 'x', color = col.col('k'), latlon = True)\n"
   ]
  },
  {
   "cell_type": "code",
   "execution_count": 304,
   "id": "6c89281c",
   "metadata": {},
   "outputs": [],
   "source": [
    "ca()a"
   ]
  },
  {
   "cell_type": "code",
   "execution_count": 299,
   "id": "24ce0938",
   "metadata": {},
   "outputs": [
    {
     "data": {
      "text/plain": [
       "[<matplotlib.lines.Line2D at 0x7ff74796cd60>]"
      ]
     },
     "execution_count": 299,
     "metadata": {},
     "output_type": "execute_result"
    }
   ],
   "source": []
  },
  {
   "cell_type": "code",
   "execution_count": 104,
   "id": "e0bc93ba",
   "metadata": {},
   "outputs": [],
   "source": [
    "ip.interp1?"
   ]
  },
  {
   "cell_type": "code",
   "execution_count": 100,
   "id": "f2bc8923",
   "metadata": {},
   "outputs": [
    {
     "data": {
      "text/plain": [
       "numpy.ma.core.MaskedArray"
      ]
     },
     "execution_count": 100,
     "metadata": {},
     "output_type": "execute_result"
    }
   ],
   "source": [
    "\n",
    "type(getattr(d, key3d))"
   ]
  },
  {
   "cell_type": "code",
   "execution_count": 96,
   "id": "01d1582d",
   "metadata": {},
   "outputs": [
    {
     "data": {
      "text/plain": [
       "'SP'"
      ]
     },
     "execution_count": 96,
     "metadata": {},
     "output_type": "execute_result"
    }
   ],
   "source": [
    "key3d"
   ]
  },
  {
   "cell_type": "code",
   "execution_count": 90,
   "id": "cccad7f6",
   "metadata": {},
   "outputs": [
    {
     "data": {
      "text/plain": [
       "[<matplotlib.lines.Line2D at 0x7ff74ed4ffa0>]"
      ]
     },
     "execution_count": 90,
     "metadata": {},
     "output_type": "execute_result"
    }
   ],
   "source": [
    "fig, ax = plt.subplots()\n",
    "ax.plot(d.dep)"
   ]
  },
  {
   "cell_type": "code",
   "execution_count": 84,
   "id": "617e8d61",
   "metadata": {},
   "outputs": [],
   "source": [
    "        ip.interp1d?"
   ]
  },
  {
   "cell_type": "code",
   "execution_count": null,
   "id": "727a0569",
   "metadata": {},
   "outputs": [],
   "source": [
    "D.coords"
   ]
  },
  {
   "cell_type": "code",
   "execution_count": 52,
   "id": "ff7ced54",
   "metadata": {},
   "outputs": [
    {
     "data": {
      "text/plain": [
       "81.485"
      ]
     },
     "execution_count": 52,
     "metadata": {},
     "output_type": "execute_result"
    }
   ],
   "source": [
    "d.lat"
   ]
  },
  {
   "cell_type": "code",
   "execution_count": 53,
   "id": "6cdbd094",
   "metadata": {},
   "outputs": [],
   "source": []
  },
  {
   "cell_type": "code",
   "execution_count": null,
   "id": "0dc26d9f",
   "metadata": {},
   "outputs": [],
   "source": []
  }
 ],
 "metadata": {
  "kernelspec": {
   "display_name": "Python 3 (ipykernel)",
   "language": "python",
   "name": "python3"
  },
  "language_info": {
   "codemirror_mode": {
    "name": "ipython",
    "version": 3
   },
   "file_extension": ".py",
   "mimetype": "text/x-python",
   "name": "python",
   "nbconvert_exporter": "python",
   "pygments_lexer": "ipython3",
   "version": "3.8.2"
  }
 },
 "nbformat": 4,
 "nbformat_minor": 5
}
