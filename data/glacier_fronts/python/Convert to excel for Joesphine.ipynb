{
 "cells": [
  {
   "cell_type": "markdown",
   "id": "36bb9764",
   "metadata": {},
   "source": [
    "Josephine will double check these.."
   ]
  },
  {
   "cell_type": "code",
   "execution_count": 9,
   "id": "ab07f52c",
   "metadata": {},
   "outputs": [],
   "source": [
    "from oyv.imports import *\n",
    "import pandas as pd "
   ]
  },
  {
   "cell_type": "code",
   "execution_count": 60,
   "id": "c362b3b9",
   "metadata": {},
   "outputs": [],
   "source": [
    "fn_a = 'NORDAUSTLANDET_ADVRATES.p'\n",
    "fn_b = 'SS_HB_ADVRATES.p'"
   ]
  },
  {
   "cell_type": "code",
   "execution_count": 61,
   "id": "037a0184",
   "metadata": {},
   "outputs": [],
   "source": [
    "da_ = dict(pickle_load(fn_a))\n",
    "db_ = dict(pickle_load(fn_b))\n",
    "da, db = da_.copy(), db_.copy()"
   ]
  },
  {
   "cell_type": "code",
   "execution_count": 62,
   "id": "6645aa13",
   "metadata": {},
   "outputs": [],
   "source": [
    "for key in ['glacier_sorting', 'meta', 'source_script']:\n",
    "    if key in da.keys():\n",
    "        del da[key]\n",
    "    if key in db.keys():\n",
    "        db.pop(key)\n"
   ]
  },
  {
   "cell_type": "code",
   "execution_count": 67,
   "id": "42a8a4b2",
   "metadata": {},
   "outputs": [],
   "source": [
    "pa = pd.DataFrame(da)\n",
    "pb = pd.DataFrame(db)"
   ]
  },
  {
   "cell_type": "code",
   "execution_count": 73,
   "id": "a0162ec0",
   "metadata": {},
   "outputs": [],
   "source": [
    "pa.to_csv('NORDAUSTLANDET_ADVRATES.p'.replace('.p', '.csv'))\n",
    "pb.to_csv('SS_HB_ADVRATES.p'.replace('.p', '.csv'))"
   ]
  },
  {
   "cell_type": "code",
   "execution_count": 77,
   "id": "03091efe",
   "metadata": {},
   "outputs": [
    {
     "name": "stdout",
     "output_type": "stream",
     "text": [
      "29.11.22: Data from Josephine M- All Nordaustlandet glaciers. \n",
      "Source: /home/oyvindl/work/projects/barents_glaciers/glacierocean-austfonna/data/glacier_fronts/excel_from_josephine/Units: meters per day. Advance is positive, retreat is negative. \n",
      "\n",
      "Øyvind fixed what I think is a typo in the time field (check!?).\n",
      "Øyvind added a sorting of which glaciers are where (\"glacier_sorting\" field).\n"
     ]
    }
   ],
   "source": [
    "print(da_['meta'])"
   ]
  },
  {
   "cell_type": "code",
   "execution_count": 78,
   "id": "0b133884",
   "metadata": {},
   "outputs": [
    {
     "name": "stdout",
     "output_type": "stream",
     "text": [
      "28.11.22: Data from Josephine M - Hartogbukta & storisstraumen. \n",
      "Source: /home/oyvindl/work/projects/barents_glaciers/glacierocean-austfonna/data/glacier_fronts/excel_from_josephine/Units: meters per day. Advance is positive, retreat is negative. \n",
      "\n",
      "Øyvind fixed what I think is a typo in the time field (check!?).\n",
      "Øyvind added on 3 culumative points at the end (see source script).\n"
     ]
    }
   ],
   "source": [
    "print(db_['meta'])"
   ]
  },
  {
   "cell_type": "code",
   "execution_count": null,
   "id": "7663beb8",
   "metadata": {},
   "outputs": [],
   "source": []
  }
 ],
 "metadata": {
  "kernelspec": {
   "display_name": "Python [conda env:oyv] *",
   "language": "python",
   "name": "conda-env-oyv-py"
  },
  "language_info": {
   "codemirror_mode": {
    "name": "ipython",
    "version": 3
   },
   "file_extension": ".py",
   "mimetype": "text/x-python",
   "name": "python",
   "nbconvert_exporter": "python",
   "pygments_lexer": "ipython3",
   "version": "3.8.2"
  }
 },
 "nbformat": 4,
 "nbformat_minor": 5
}
