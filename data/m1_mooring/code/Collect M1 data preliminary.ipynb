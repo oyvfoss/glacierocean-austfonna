{
 "cells": [
  {
   "cell_type": "code",
   "execution_count": 1,
   "id": "b5c353b1",
   "metadata": {},
   "outputs": [],
   "source": [
    "from oyv.imports import *\n",
    "from oyv.data import read_rbr\n",
    "import xarray as xr"
   ]
  },
  {
   "cell_type": "markdown",
   "id": "e1e4eaa2",
   "metadata": {},
   "source": [
    "## Concerto data\n",
    "\n",
    "Want time series of daily data from Concertos at ~90 and ~20 m depth\n",
    "\n",
    "#### 20 m\n",
    "\n",
    "- **M1-1**: 60594 (*26*) \n",
    "- **M1-2**: 201408 (*20*) \n",
    "- **M1-3**: 201415 (*20*) \n",
    "- **M1-4**: 60600 (*23*)  \n",
    "\n",
    "\n",
    "#### 90 m\n",
    "\n",
    "- **M1-1**: 60593 (*90*) \n",
    "- **M1-2**: 201403 (*89*) \n",
    "- **M1-3**: 204982 (*89*)\n",
    "- **M1-4**: 60591(*87*) "
   ]
  },
  {
   "cell_type": "code",
   "execution_count": 2,
   "id": "7b78350e",
   "metadata": {},
   "outputs": [],
   "source": [
    "ddir_in = '/home/oyvindl/work/projects/barents_glaciers/glacierocean-austfonna/data/m1_mooring/data/source/'\n",
    "ddir_out = '/home/oyvindl/work/projects/barents_glaciers/glacierocean-austfonna/data/m1_mooring/data/collected/'"
   ]
  },
  {
   "cell_type": "markdown",
   "id": "ae8ec14f",
   "metadata": {},
   "source": [
    "## M1-1"
   ]
  },
  {
   "cell_type": "code",
   "execution_count": 3,
   "id": "2dd7c6ab",
   "metadata": {},
   "outputs": [],
   "source": [
    "d20_1 = xr.load_dataset(ddir_in + 'concerto_21m_m1_2018_2019.nc')\n",
    "d90_1 = xr.load_dataset(ddir_in + 'concerto_95m_m1_2018_2019.nc')"
   ]
  },
  {
   "cell_type": "code",
   "execution_count": 4,
   "id": "c2cbb05c",
   "metadata": {},
   "outputs": [],
   "source": [
    "D20_1 = Bunch()\n",
    "D20_1.T, D20_1.time = stats.dmean(d20_1.TEMP, date2num(d20_1.TIME))\n",
    "D20_1.pres, D20_1.time = stats.dmean(d20_1.PRES, date2num(d20_1.TIME))\n",
    "D20_1.SP, D20_1.time = stats.dmean(d20_1.PSAL, date2num(d20_1.TIME))"
   ]
  },
  {
   "cell_type": "code",
   "execution_count": 5,
   "id": "7b709c10",
   "metadata": {},
   "outputs": [],
   "source": [
    "D90_1 = Bunch()\n",
    "D90_1.T, D90_1.time = stats.dmean(d90_1.TEMP, date2num(d90_1.TIME))\n",
    "D90_1.pres, D90_1.time = stats.dmean(d90_1.PRES, date2num(d90_1.TIME))\n",
    "D90_1.SP, D90_1.time = stats.dmean(d90_1.PSAL, date2num(d90_1.TIME))"
   ]
  },
  {
   "cell_type": "code",
   "execution_count": 6,
   "id": "a63a902c",
   "metadata": {},
   "outputs": [
    {
     "data": {
      "text/plain": [
       "<matplotlib.legend.Legend at 0x7f9d4e1939a0>"
      ]
     },
     "execution_count": 6,
     "metadata": {},
     "output_type": "execute_result"
    }
   ],
   "source": [
    "fig, ax = plt.subplots(figsize = (12, 4))\n",
    "ax.plot(d20_1.TIME, d20_1.TEMP, color = col.col('p'), alpha = 0.4)\n",
    "ax.plot(D20_1.time, D20_1.T, color = col.col('p'), alpha = 1,\n",
    "        label = '%.0f m'%(np.ma.median(D20_1.pres)), zorder = 2)\n",
    "ax.plot(d90_1.TIME, d90_1.TEMP, color = col.col('g'), alpha = 0.4)\n",
    "ax.plot(D90_1.time, D90_1.T, color = col.col('g'), alpha = 1, \n",
    "        label = '%.0f m'%(np.ma.median(D90_1.pres)), zorder = 2)\n",
    "ax.legend()"
   ]
  },
  {
   "cell_type": "markdown",
   "id": "5379daa6",
   "metadata": {},
   "source": [
    "## M1-2"
   ]
  },
  {
   "cell_type": "code",
   "execution_count": 7,
   "id": "b168562b",
   "metadata": {},
   "outputs": [],
   "source": [
    "d20_2 = xr.load_dataset(ddir_in + 'concerto_20m_m1_2019_2020.nc')\n",
    "d90_2 = xr.load_dataset(ddir_in + 'concerto_97m_m1_2019_2020.nc')"
   ]
  },
  {
   "cell_type": "code",
   "execution_count": 8,
   "id": "5f9bea7d",
   "metadata": {},
   "outputs": [],
   "source": [
    "D20_2 = Bunch()\n",
    "D20_2.T, D20_2.time = stats.dmean(d20_2.TEMP, date2num(d20_2.TIME))\n",
    "D20_2.pres, D20_2.time = stats.dmean(d20_2.PRES, date2num(d20_2.TIME))\n",
    "D20_2.SP, D20_2.time = stats.dmean(d20_2.PSAL, date2num(d20_2.TIME))"
   ]
  },
  {
   "cell_type": "code",
   "execution_count": 9,
   "id": "27b91175",
   "metadata": {},
   "outputs": [],
   "source": [
    "D90_2 = Bunch()\n",
    "D90_2.T, D90_2.time = stats.dmean(d90_2.TEMP, date2num(d90_2.TIME))\n",
    "D90_2.pres, D90_2.time = stats.dmean(d90_2.PRES, date2num(d90_2.TIME))\n",
    "D90_2.SP, D90_2.time = stats.dmean(d90_2.PSAL, date2num(d90_2.TIME))"
   ]
  },
  {
   "cell_type": "code",
   "execution_count": 10,
   "id": "988c694a",
   "metadata": {},
   "outputs": [
    {
     "data": {
      "text/plain": [
       "<matplotlib.legend.Legend at 0x7f9d4610ca90>"
      ]
     },
     "execution_count": 10,
     "metadata": {},
     "output_type": "execute_result"
    }
   ],
   "source": [
    "fig, ax = plt.subplots(figsize = (12, 4))\n",
    "ax.plot(d20_2.TIME, d20_2.TEMP, color = col.col('p'), alpha = 0.4)\n",
    "ax.plot(D20_2.time, D20_2.T, color = col.col('p'), alpha = 1,\n",
    "        label = '%.0f m'%(np.ma.median(D20_2.pres)), zorder = 2)\n",
    "ax.plot(d90_2.TIME, d90_2.TEMP, color = col.col('g'), alpha = 0.4)\n",
    "ax.plot(D90_2.time, D90_2.T, color = col.col('g'), alpha = 1, \n",
    "        label = '%.0f m'%(np.ma.median(D90_2.pres)), zorder = 2)\n",
    "ax.legend()"
   ]
  },
  {
   "cell_type": "markdown",
   "id": "b3a0da4a",
   "metadata": {},
   "source": [
    "## M1-3"
   ]
  },
  {
   "cell_type": "code",
   "execution_count": 11,
   "id": "71b09fab",
   "metadata": {},
   "outputs": [],
   "source": [
    "ddir_m13 = ddir_in + 'M1-3/'"
   ]
  },
  {
   "cell_type": "code",
   "execution_count": 12,
   "id": "c7fc2926",
   "metadata": {},
   "outputs": [
    {
     "name": "stdout",
     "output_type": "stream",
     "text": [
      "Reading data from file..Couldn't load CHL\n",
      "Couldn't load PAR\n",
      " done.\n"
     ]
    }
   ],
   "source": [
    "sfx_20_3 = '201415_20211110_1707'\n",
    "d20_3 = read_rbr.rbrobj(ddir_m13+sfx_20_3+'/', \n",
    "                        fn_sfx = sfx_20_3, instrument = 'concerto')\n",
    "d20_3.read_data()"
   ]
  },
  {
   "cell_type": "code",
   "execution_count": 13,
   "id": "6a39dab8",
   "metadata": {},
   "outputs": [],
   "source": [
    "d20_3.snip_edges(startind = 9, endind = 75590) # Drop deck time"
   ]
  },
  {
   "cell_type": "code",
   "execution_count": 14,
   "id": "f2c1bdf7",
   "metadata": {},
   "outputs": [],
   "source": [
    "D20_3 = Bunch()\n",
    "D20_3.T, D20_3.time = stats.dmean(d20_3.T, d20_3.t)\n",
    "D20_3.pres, D20_3.time = stats.dmean(d20_3.p, d20_3.t)\n",
    "D20_3.SP, D20_3.time = stats.dmean(d20_3.SP, d20_3.t)"
   ]
  },
  {
   "cell_type": "code",
   "execution_count": 15,
   "id": "fec82c05",
   "metadata": {},
   "outputs": [],
   "source": [
    "ca()"
   ]
  },
  {
   "cell_type": "code",
   "execution_count": 16,
   "id": "6698a990",
   "metadata": {},
   "outputs": [
    {
     "name": "stdout",
     "output_type": "stream",
     "text": [
      "Reading data from file..Couldn't load CHL\n",
      "Couldn't load PAR\n",
      " done.\n"
     ]
    }
   ],
   "source": [
    "sfx_90_3 = '204982_20211110_1703'\n",
    "d90_3 = read_rbr.rbrobj(ddir_m13+sfx_90_3+'/', \n",
    "                        fn_sfx = sfx_90_3, instrument = 'concerto')\n",
    "d90_3.read_data()"
   ]
  },
  {
   "cell_type": "code",
   "execution_count": 17,
   "id": "6a0fa7fe",
   "metadata": {},
   "outputs": [],
   "source": [
    "d90_3.snip_edges(startind = 8, endind = 75599) # Drop deck time"
   ]
  },
  {
   "cell_type": "code",
   "execution_count": 18,
   "id": "8e91f5b0",
   "metadata": {},
   "outputs": [],
   "source": [
    "D90_3 = Bunch()\n",
    "D90_3.T, D90_3.time = stats.dmean(d90_3.T, d90_3.t)\n",
    "D90_3.pres, D90_3.time = stats.dmean(d90_3.p, d90_3.t)\n",
    "D90_3.SP, D90_3.time = stats.dmean(d90_3.SP, d90_3.t)"
   ]
  },
  {
   "cell_type": "code",
   "execution_count": 19,
   "id": "a149e360",
   "metadata": {},
   "outputs": [
    {
     "data": {
      "text/plain": [
       "<matplotlib.legend.Legend at 0x7f9d42b39730>"
      ]
     },
     "execution_count": 19,
     "metadata": {},
     "output_type": "execute_result"
    }
   ],
   "source": [
    "fig, ax = plt.subplots(figsize = (12, 4))\n",
    "ax.plot(d20_3.t, d20_3.T, color = col.col('p'), alpha = 0.4)\n",
    "ax.plot(D20_3.time, D20_3.T, color = col.col('p'), alpha = 1,\n",
    "        label = '%.0f db'%(np.ma.median(D20_3.pres)), zorder = 2)\n",
    "ax.plot(d90_3.t, d90_3.T, color = col.col('g'), alpha = 0.4)\n",
    "ax.plot(D90_3.time, D90_3.T, color = col.col('g'), alpha = 1, \n",
    "        label = '%.0f db'%(np.ma.median(D90_3.pres)), zorder = 2)\n",
    "ax.legend()"
   ]
  },
  {
   "cell_type": "markdown",
   "id": "09643158",
   "metadata": {},
   "source": [
    "## M1-4"
   ]
  },
  {
   "cell_type": "code",
   "execution_count": 20,
   "id": "56e19c9d",
   "metadata": {},
   "outputs": [],
   "source": [
    "ddir_m14 = ddir_in + 'M1-4/'"
   ]
  },
  {
   "cell_type": "code",
   "execution_count": 21,
   "id": "97e145ec",
   "metadata": {},
   "outputs": [
    {
     "name": "stdout",
     "output_type": "stream",
     "text": [
      "Reading data from file..Couldn't load CHL\n",
      "Couldn't load PAR\n",
      " done.\n"
     ]
    }
   ],
   "source": [
    "sfx_20_4 = '060600_20221008_1840'\n",
    "d20_4 = read_rbr.rbrobj(ddir_m14+sfx_20_4+'/', \n",
    "                        fn_sfx = sfx_20_4, instrument = 'concerto')\n",
    "d20_4.read_data()"
   ]
  },
  {
   "cell_type": "code",
   "execution_count": 22,
   "id": "334bc866",
   "metadata": {},
   "outputs": [],
   "source": [
    "d20_4.snip_edges(startind = 416, endind = 476220) # Drop deck time"
   ]
  },
  {
   "cell_type": "code",
   "execution_count": 23,
   "id": "d73a5288",
   "metadata": {},
   "outputs": [],
   "source": [
    "D20_4 = Bunch()\n",
    "D20_4.T, D20_4.time = stats.dmean(d20_4.T, d20_4.t)\n",
    "D20_4.pres, D20_4.time = stats.dmean(d20_4.p, d20_4.t)\n",
    "D20_4.SP, D20_4.time = stats.dmean(d20_4.SP, d20_4.t)"
   ]
  },
  {
   "cell_type": "code",
   "execution_count": 25,
   "id": "85c161bb",
   "metadata": {},
   "outputs": [
    {
     "name": "stdout",
     "output_type": "stream",
     "text": [
      "Reading data from file..Couldn't load CHL\n",
      "Couldn't load PAR\n",
      " done.\n"
     ]
    }
   ],
   "source": [
    "sfx_90_4 = '060591_20221008_1919'\n",
    "d90_4 = read_rbr.rbrobj(ddir_m14+sfx_90_4+'/', \n",
    "                        fn_sfx = sfx_90_4, instrument = 'concerto')\n",
    "d90_4.read_data()"
   ]
  },
  {
   "cell_type": "code",
   "execution_count": 26,
   "id": "4ad0300a",
   "metadata": {},
   "outputs": [],
   "source": [
    "d90_4.snip_edges(startind = 395, endind = 476224) # Drop deck time"
   ]
  },
  {
   "cell_type": "code",
   "execution_count": 27,
   "id": "4db83bf9",
   "metadata": {},
   "outputs": [],
   "source": [
    "D90_4 = Bunch()\n",
    "D90_4.T, D90_4.time = stats.dmean(d90_4.T, d90_4.t)\n",
    "D90_4.pres, D90_4.time = stats.dmean(d90_4.p, d90_4.t)\n",
    "D90_4.SP, D90_4.time = stats.dmean(d90_4.SP, d90_4.t)"
   ]
  },
  {
   "cell_type": "code",
   "execution_count": null,
   "id": "b98a81c7",
   "metadata": {},
   "outputs": [],
   "source": [
    "fig, ax = plt.subplots(figsize = (12, 4))\n",
    "ax.plot(d20_4.t, d20_4.T, color = col.col('p'), alpha = 0.4)\n",
    "ax.plot(D20_4.time, D20_4.T, color = col.col('p'), alpha = 1,\n",
    "        label = '%.0f db'%(np.ma.median(D20_4.pres)), zorder = 2)\n",
    "ax.plot(d90_4.t, d90_4.T, color = col.col('g'), alpha = 0.4)\n",
    "ax.plot(D90_4.time, D90_4.T, color = col.col('g'), alpha = 1, \n",
    "        label = '%.0f db'%(np.ma.median(D90_4.pres)), zorder = 2)\n",
    "ax.legend()"
   ]
  },
  {
   "cell_type": "markdown",
   "id": "fc72d88b",
   "metadata": {},
   "source": [
    "### Save"
   ]
  },
  {
   "cell_type": "code",
   "execution_count": 156,
   "id": "f238083b",
   "metadata": {},
   "outputs": [],
   "source": [
    "D20 = Bunch({'M1_1':D20_1, 'M1_2':D20_2, 'M1_3':D20_3, 'M1_4':D20_4})\n",
    "D90 = Bunch({'M1_1':D90_1, 'M1_2':D90_2, 'M1_3':D90_3, 'M1_4':D90_4})\n",
    "D = Bunch({'20m':D20, '90m':D90})"
   ]
  },
  {
   "cell_type": "code",
   "execution_count": 35,
   "id": "c14cc623",
   "metadata": {},
   "outputs": [],
   "source": [
    "D = Bunch()\n",
    "\n",
    "# Interpolating step because we want masks at holes\n",
    "ti_20 = np.arange(D20_1.time[0], D20_4.time[-1])\n",
    "ti_90 = np.arange(D90_1.time[0], D90_4.time[-1])\n",
    "\n",
    "D['ctd_20m'] = Bunch({'time':num2date(ti_20)})\n",
    "D['ctd_90m'] = Bunch({'time':num2date(ti_90)})"
   ]
  },
  {
   "cell_type": "code",
   "execution_count": 88,
   "id": "d8500eb7",
   "metadata": {},
   "outputs": [],
   "source": [
    "# Concatenate daily (no interpolation)\n",
    "\n",
    "D0 = Bunch()\n",
    "\n",
    "D0['ctd_20m'] = Bunch()\n",
    "D0['ctd_90m'] = Bunch()\n",
    "\n",
    "for key in ['time', 'T', 'pres', 'SP']:\n",
    "    \n",
    "    var20 = np.array([])\n",
    "    var90 = np.array([])\n",
    "\n",
    "    # have to use a start index here because we have multiple intries for one day\n",
    "    for D20, startn in zip([D20_1, D20_2, D20_3, D20_4], [0, 1, 0, 1]):\n",
    "        var20 = np.ma.concatenate([var20, D20[key][startn:]])\n",
    "        \n",
    "    for D90, startn in zip([D90_1, D90_2, D90_3, D90_4], [0, 1, 0, 1]):\n",
    "        var90 = np.ma.concatenate([var90, D90[key][startn:]])   \n",
    "        \n",
    "    D0['ctd_20m'][key] = var20\n",
    "    D0['ctd_90m'][key] = var90"
   ]
  },
  {
   "cell_type": "code",
   "execution_count": 89,
   "id": "541bf417",
   "metadata": {},
   "outputs": [],
   "source": [
    "# Interpolating step because we want masks at holes\n",
    "ti_20 = np.arange(D20_1.time[0], D20_4.time[-1])\n",
    "ti_90 = np.arange(D90_1.time[0], D90_4.time[-1])\n",
    "\n",
    "D['ctd_20m'] = Bunch({'time':ti_20})\n",
    "D['ctd_90m'] = Bunch({'time':ti_90})\n",
    "\n",
    "for key in ['T', 'pres', 'SP']:\n",
    "    D['ctd_20m'][key] = ip.interp1(D0['ctd_20m'].time, \n",
    "                                   D0['ctd_20m'][key], D['ctd_20m'].time, max_dx = 3)\n",
    "    D['ctd_90m'][key] = ip.interp1(D0['ctd_90m'].time, \n",
    "                                   D0['ctd_90m'][key], D['ctd_90m'].time, max_dx = 3)"
   ]
  },
  {
   "cell_type": "code",
   "execution_count": 85,
   "id": "48256305",
   "metadata": {},
   "outputs": [],
   "source": [
    "ca()"
   ]
  },
  {
   "cell_type": "code",
   "execution_count": 86,
   "id": "2405aff0",
   "metadata": {},
   "outputs": [],
   "source": [
    "D.meta = '''\n",
    "ØL: Premilinary (daily averaged) data from M1 mooring RBR Concertos at ~20 and ~90 m.\n",
    "\n",
    "First two (M1_1 and M1_2) are cleaned and quality controlled. The others are not.\n",
    "'''\n",
    "D.script = 'Collect M1 data preliminary.ipynb'"
   ]
  },
  {
   "cell_type": "code",
   "execution_count": 172,
   "id": "5b8e9df1",
   "metadata": {},
   "outputs": [],
   "source": [
    "ca()"
   ]
  },
  {
   "cell_type": "code",
   "execution_count": 87,
   "id": "173accce",
   "metadata": {},
   "outputs": [],
   "source": [
    "with open(ddir_out + 'm1_concerto_collected.p', 'wb') as f:\n",
    "    pickle.dump(D, f)"
   ]
  },
  {
   "cell_type": "markdown",
   "id": "ac102cd4",
   "metadata": {},
   "source": [
    "### Bulk figure"
   ]
  },
  {
   "cell_type": "code",
   "execution_count": 83,
   "id": "36810f03",
   "metadata": {
    "scrolled": true
   },
   "outputs": [
    {
     "data": {
      "text/plain": [
       "<matplotlib.legend.Legend at 0x7f9d41fe65e0>"
      ]
     },
     "execution_count": 83,
     "metadata": {},
     "output_type": "execute_result"
    }
   ],
   "source": [
    "fig, ax = plt.subplots(figsize = (12, 4))\n",
    "\n",
    "ax.plot(d20_1.TIME, d20_1.TEMP, color = col.col('p'), alpha = 0.4)\n",
    "ax.plot(D20_1.time, D20_1.T, color = col.col('p'), alpha = 1,\n",
    "        zorder = 2)\n",
    "ax.plot(d90_1.TIME, d90_1.TEMP, color = col.col('g'), alpha = 0.4)\n",
    "ax.plot(D90_1.time, D90_1.T, color = col.col('g'), alpha = 1, \n",
    "         zorder = 2)\n",
    "\n",
    "ax.plot(d20_2.TIME, d20_2.TEMP, color = col.col('p'), alpha = 0.4)\n",
    "ax.plot(D20_2.time, D20_2.T, color = col.col('p'), alpha = 1,\n",
    "         zorder = 2)\n",
    "ax.plot(d90_2.TIME, d90_2.TEMP, color = col.col('g'), alpha = 0.4)\n",
    "ax.plot(D90_2.time, D90_2.T, color = col.col('g'), alpha = 1, \n",
    "        zorder = 2)\n",
    "\n",
    "ax.plot(d20_3.t, d20_3.T, color = col.col('p'), alpha = 0.4)\n",
    "ax.plot(D20_3.time, D20_3.T, color = col.col('p'), alpha = 1,\n",
    "         zorder = 2)\n",
    "ax.plot(d90_3.t, d90_3.T, color = col.col('g'), alpha = 0.4)\n",
    "ax.plot(D90_3.time, D90_3.T, color = col.col('g'), alpha = 1, \n",
    "        zorder = 2)\n",
    "\n",
    "ax.plot(d20_4.t, d20_4.T, color = col.col('p'), alpha = 0.4)\n",
    "ax.plot(D20_4.time, D20_4.T, color = col.col('p'), alpha = 1,\n",
    "        label = '~20 m'%(np.ma.median(D20_4.pres)), zorder = 2)\n",
    "ax.plot(d90_4.t, d90_4.T, color = col.col('g'), alpha = 0.4)\n",
    "ax.plot(D90_4.time, D90_4.T, color = col.col('g'), alpha = 1, \n",
    "        label = '~90 m'%(np.ma.median(D90_4.pres)), zorder = 2)\n",
    "\n",
    "# Check the interpolation etc:\n",
    "ax.plot(D['ctd_90m'].time, D['ctd_90m'].T, '--k')\n",
    "ax.plot(D['ctd_20m'].time, D['ctd_20m'].T, '--k')\n",
    "\n",
    "ax.legend()"
   ]
  },
  {
   "cell_type": "code",
   "execution_count": 152,
   "id": "e614638a",
   "metadata": {},
   "outputs": [
    {
     "data": {
      "text/plain": [
       "<matplotlib.legend.Legend at 0x7f1784b79cd0>"
      ]
     },
     "execution_count": 152,
     "metadata": {},
     "output_type": "execute_result"
    }
   ],
   "source": [
    "fig, axs = plt.subplots(2, 1, sharex = True, figsize = (12, 8))\n",
    "\n",
    "ax = axs[0]\n",
    "\n",
    "\n",
    "ax.plot(d20_1.TIME, d20_1.TEMP, color = col.col('p'), alpha = 0.4)\n",
    "ax.plot(D20_1.time, D20_1.T, color = col.col('p'), alpha = 1,\n",
    "        zorder = 2)\n",
    "ax.plot(d90_1.TIME, d90_1.TEMP, color = col.col('g'), alpha = 0.4)\n",
    "ax.plot(D90_1.time, D90_1.T, color = col.col('g'), alpha = 1, \n",
    "         zorder = 2)\n",
    "\n",
    "ax.plot(d20_2.TIME, d20_2.TEMP, color = col.col('p'), alpha = 0.4)\n",
    "ax.plot(D20_2.time, D20_2.T, color = col.col('p'), alpha = 1,\n",
    "         zorder = 2)\n",
    "ax.plot(d90_2.TIME, d90_2.TEMP, color = col.col('g'), alpha = 0.4)\n",
    "ax.plot(D90_2.time, D90_2.T, color = col.col('g'), alpha = 1, \n",
    "        zorder = 2)\n",
    "\n",
    "ax.plot(d20_3.t, d20_3.T, color = col.col('p'), alpha = 0.4)\n",
    "ax.plot(D20_3.time, D20_3.T, color = col.col('p'), alpha = 1,\n",
    "         zorder = 2)\n",
    "ax.plot(d90_3.t, d90_3.T, color = col.col('g'), alpha = 0.4)\n",
    "ax.plot(D90_3.time, D90_3.T, color = col.col('g'), alpha = 1, \n",
    "        zorder = 2)\n",
    "\n",
    "ax.plot(d20_4.t, d20_4.T, color = col.col('p'), alpha = 0.4)\n",
    "ax.plot(D20_4.time, D20_4.T, color = col.col('p'), alpha = 1,\n",
    "        label = '~20 m'%(np.ma.median(D20_4.pres)), zorder = 2)\n",
    "ax.plot(d90_4.t, d90_4.T, color = col.col('g'), alpha = 0.4)\n",
    "ax.plot(D90_4.time, D90_4.T, color = col.col('g'), alpha = 1, \n",
    "        label = '~90 m'%(np.ma.median(D90_4.pres)), zorder = 2)\n",
    "\n",
    "\n",
    "ax = axs[1]\n",
    "\n",
    "ax.plot(d20_1.TIME, d20_1.PSAL, color = col.col('p'), alpha = 0.4)\n",
    "ax.plot(D20_1.time, D20_1.SP, color = col.col('p'), alpha = 1,\n",
    "        zorder = 2)\n",
    "ax.plot(d90_1.TIME, d90_1.PSAL, color = col.col('g'), alpha = 0.4)\n",
    "ax.plot(D90_1.time, D90_1.SP, color = col.col('g'), alpha = 1, \n",
    "         zorder = 2)\n",
    "\n",
    "ax.plot(d20_2.TIME, d20_2.PSAL, color = col.col('p'), alpha = 0.4)\n",
    "ax.plot(D20_2.time, D20_2.SP, color = col.col('p'), alpha = 1,\n",
    "         zorder = 2)\n",
    "ax.plot(d90_2.TIME, d90_2.PSAL, color = col.col('g'), alpha = 0.4)\n",
    "ax.plot(D90_2.time, D90_2.SP, color = col.col('g'), alpha = 1, \n",
    "        zorder = 2)\n",
    "\n",
    "ax.plot(d20_3.t, d20_3.SP, color = col.col('p'), alpha = 0.4)\n",
    "ax.plot(D20_3.time, D20_3.SP, color = col.col('p'), alpha = 1,\n",
    "         zorder = 2)\n",
    "ax.plot(d90_3.t, d90_3.SP, color = col.col('g'), alpha = 0.4)\n",
    "ax.plot(D90_3.time, D90_3.SP, color = col.col('g'), alpha = 1, \n",
    "        zorder = 2)\n",
    "\n",
    "ax.plot(d20_4.t, d20_4.SP, color = col.col('p'), alpha = 0.4)\n",
    "ax.plot(D20_4.time, D20_4.SP, color = col.col('p'), alpha = 1,\n",
    "        label = '~20 m'%(np.ma.median(D20_4.pres)), zorder = 2)\n",
    "ax.plot(d90_4.t, d90_4.SP, color = col.col('g'), alpha = 0.4)\n",
    "ax.plot(D90_4.time, D90_4.SP, color = col.col('g'), alpha = 1, \n",
    "        label = '~90 m'%(np.ma.median(D90_4.pres)), zorder = 2)\n",
    "\n",
    "for axn in axs:\n",
    "    pl.fill_xrange(D90_2.time[-1]+1, D90_3.time[0]-1, axn)\n",
    "\n",
    "axs[0].set_ylim(-2, 4.5)\n",
    "axs[1].set_ylim(31.8, 35.17)\n",
    "axs[-1].set_xlim(D90_1.time[0], D90_4.time[-1])\n",
    "\n",
    "ax.legend()"
   ]
  },
  {
   "cell_type": "code",
   "execution_count": null,
   "id": "4784f459",
   "metadata": {},
   "outputs": [],
   "source": []
  }
 ],
 "metadata": {
  "kernelspec": {
   "display_name": "Python 3 (ipykernel)",
   "language": "python",
   "name": "python3"
  },
  "language_info": {
   "codemirror_mode": {
    "name": "ipython",
    "version": 3
   },
   "file_extension": ".py",
   "mimetype": "text/x-python",
   "name": "python",
   "nbconvert_exporter": "python",
   "pygments_lexer": "ipython3",
   "version": "3.8.2"
  }
 },
 "nbformat": 4,
 "nbformat_minor": 5
}
